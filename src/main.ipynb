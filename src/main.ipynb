{
 "cells": [
  {
   "cell_type": "code",
   "execution_count": 2,
   "metadata": {},
   "outputs": [],
   "source": [
    "import torch\n",
    "import numpy as np"
   ]
  },
  {
   "cell_type": "code",
   "execution_count": 3,
   "metadata": {},
   "outputs": [],
   "source": [
    "import os\n",
    "import sys\n",
    "module_path = os.path.abspath(os.path.join('..'))\n",
    "if module_path not in sys.path:\n",
    "    sys.path.append(module_path)"
   ]
  },
  {
   "cell_type": "code",
   "execution_count": 4,
   "metadata": {},
   "outputs": [],
   "source": [
    "from src.train import prepare_training_data, train\n",
    "from src.predict import predict\n",
    "from src import UNet"
   ]
  },
  {
   "cell_type": "code",
   "execution_count": 9,
   "metadata": {},
   "outputs": [],
   "source": [
    "n_epochs = 10\n",
    "lr = 2e-4\n",
    "batch_size = 2\n",
    "weight_decay = 1e-4\n",
    "random_state = np.random.RandomState(0)"
   ]
  },
  {
   "cell_type": "code",
   "execution_count": 6,
   "metadata": {},
   "outputs": [],
   "source": [
    "train_loader, valid_loader = prepare_training_data(\n",
    "    train_size=0.8, \n",
    "    batch_size=batch_size, \n",
    "    random_state=random_state)"
   ]
  },
  {
   "cell_type": "code",
   "execution_count": null,
   "metadata": {
    "scrolled": true
   },
   "outputs": [
    {
     "name": "stdout",
     "output_type": "stream",
     "text": [
      "cuda:0\n",
      "Epoch: 1\n",
      "[1, 5] loss: 0.206984\n",
      "[1, 10] loss: 0.208280\n",
      "[1, 15] loss: 0.206935\n",
      "[1, 20] loss: 0.196668\n",
      "[1, 25] loss: 0.184481\n",
      "[1, 30] loss: 0.198343\n",
      "[1, 35] loss: 0.200171\n",
      "[1, 40] loss: 0.213787\n",
      "[1, 45] loss: 0.194335\n",
      "[1, 50] loss: 0.192972\n",
      "[1, 55] loss: 0.199325\n",
      "[1, 60] loss: 0.207108\n",
      "[1, 65] loss: 0.192803\n",
      "[1, 70] loss: 0.192163\n",
      "[1, 75] loss: 0.204715\n",
      "[1, 80] loss: 0.195239\n",
      "[1, 85] loss: 0.192341\n",
      "Epoch: 2\n",
      "[2, 5] loss: 0.205889\n",
      "[2, 10] loss: 0.206907\n",
      "[2, 15] loss: 0.203016\n",
      "[2, 20] loss: 0.194142\n",
      "[2, 25] loss: 0.181548\n",
      "[2, 30] loss: 0.196508\n",
      "[2, 35] loss: 0.195906\n",
      "[2, 40] loss: 0.209900\n",
      "[2, 45] loss: 0.194195\n",
      "[2, 50] loss: 0.192556\n",
      "[2, 55] loss: 0.199721\n",
      "[2, 60] loss: 0.207823\n",
      "[2, 65] loss: 0.194143\n",
      "[2, 70] loss: 0.193079\n",
      "[2, 75] loss: 0.205757\n",
      "[2, 80] loss: 0.196151\n",
      "[2, 85] loss: 0.194622\n",
      "Epoch: 3\n",
      "[3, 5] loss: 0.205288\n",
      "[3, 10] loss: 0.202114\n",
      "[3, 15] loss: 0.200628\n",
      "[3, 20] loss: 0.192149\n",
      "[3, 25] loss: 0.182084\n",
      "[3, 30] loss: 0.195739\n",
      "[3, 35] loss: 0.196231\n",
      "[3, 40] loss: 0.209983\n",
      "[3, 45] loss: 0.192018\n",
      "[3, 50] loss: 0.190856\n",
      "[3, 55] loss: 0.198814\n",
      "[3, 60] loss: 0.206298\n",
      "[3, 65] loss: 0.191958\n",
      "[3, 70] loss: 0.190909\n",
      "[3, 75] loss: 0.205433\n",
      "[3, 80] loss: 0.194661\n",
      "[3, 85] loss: 0.194425\n",
      "Epoch: 4\n",
      "[4, 5] loss: 0.203857\n",
      "[4, 10] loss: 0.201634\n",
      "[4, 15] loss: 0.200318\n",
      "[4, 20] loss: 0.193029\n",
      "[4, 25] loss: 0.182127\n",
      "[4, 30] loss: 0.195053\n",
      "[4, 35] loss: 0.194910\n",
      "[4, 40] loss: 0.209464\n",
      "[4, 45] loss: 0.193973\n",
      "[4, 50] loss: 0.192043\n",
      "[4, 55] loss: 0.198367\n",
      "[4, 60] loss: 0.206329\n",
      "[4, 65] loss: 0.191355\n",
      "[4, 70] loss: 0.191120\n",
      "[4, 75] loss: 0.204255\n",
      "[4, 80] loss: 0.193982\n",
      "[4, 85] loss: 0.190295\n",
      "Epoch: 5\n",
      "[5, 5] loss: 0.201380\n",
      "[5, 10] loss: 0.201433\n",
      "[5, 15] loss: 0.199403\n",
      "[5, 20] loss: 0.192382\n",
      "[5, 25] loss: 0.180063\n",
      "[5, 30] loss: 0.194845\n",
      "[5, 35] loss: 0.195912\n",
      "[5, 40] loss: 0.208602\n",
      "[5, 45] loss: 0.193228\n",
      "[5, 50] loss: 0.189953\n",
      "[5, 55] loss: 0.197588\n",
      "[5, 60] loss: 0.203349\n",
      "[5, 65] loss: 0.189341\n",
      "[5, 70] loss: 0.190520\n",
      "[5, 75] loss: 0.203342\n",
      "[5, 80] loss: 0.192364\n",
      "[5, 85] loss: 0.189746\n",
      "Epoch: 6\n",
      "[6, 5] loss: 0.199713\n",
      "[6, 10] loss: 0.199534\n",
      "[6, 15] loss: 0.198568\n",
      "[6, 20] loss: 0.190424\n",
      "[6, 25] loss: 0.179187\n",
      "[6, 30] loss: 0.193823\n",
      "[6, 35] loss: 0.194513\n",
      "[6, 40] loss: 0.207959\n",
      "[6, 45] loss: 0.191854\n",
      "[6, 50] loss: 0.189752\n",
      "[6, 55] loss: 0.196164\n",
      "[6, 60] loss: 0.201961\n",
      "[6, 65] loss: 0.190356\n",
      "[6, 70] loss: 0.188875\n",
      "[6, 75] loss: 0.203369\n",
      "[6, 80] loss: 0.193132\n",
      "[6, 85] loss: 0.190408\n",
      "Epoch: 7\n",
      "[7, 5] loss: 0.199144\n",
      "[7, 10] loss: 0.198891\n",
      "[7, 15] loss: 0.198259\n",
      "[7, 20] loss: 0.190059\n",
      "[7, 25] loss: 0.179489\n",
      "[7, 30] loss: 0.193203\n",
      "[7, 35] loss: 0.194079\n",
      "[7, 40] loss: 0.207681\n",
      "[7, 45] loss: 0.189430\n",
      "[7, 50] loss: 0.187950\n",
      "[7, 55] loss: 0.195366\n",
      "[7, 60] loss: 0.199401\n",
      "[7, 65] loss: 0.188387\n",
      "[7, 70] loss: 0.189451\n",
      "[7, 75] loss: 0.202806\n",
      "[7, 80] loss: 0.191426\n",
      "[7, 85] loss: 0.189953\n",
      "Epoch: 8\n",
      "[8, 5] loss: 0.199896\n",
      "[8, 10] loss: 0.198944\n",
      "[8, 15] loss: 0.197544\n",
      "[8, 20] loss: 0.188957\n",
      "[8, 25] loss: 0.178258\n"
     ]
    }
   ],
   "source": [
    "train(train_loader, \n",
    "      valid_loader, \n",
    "      resume=True, \n",
    "      n_epochs=n_epochs, \n",
    "      lr=lr, \n",
    "      weight_decay=weight_decay, \n",
    "      loss_type='soft_dice', add_out_layers=True)"
   ]
  },
  {
   "cell_type": "code",
   "execution_count": 7,
   "metadata": {},
   "outputs": [],
   "source": [
    "check_point = torch.load('../check_point/check_point')"
   ]
  },
  {
   "cell_type": "code",
   "execution_count": 8,
   "metadata": {},
   "outputs": [
    {
     "name": "stdout",
     "output_type": "stream",
     "text": [
      "epoch\n",
      "model_state_dict\n",
      "optimizer_state_dict\n"
     ]
    },
    {
     "data": {
      "text/plain": [
       "IncompatibleKeys(missing_keys=[], unexpected_keys=[])"
      ]
     },
     "execution_count": 8,
     "metadata": {},
     "output_type": "execute_result"
    }
   ],
   "source": [
    "model = UNet(in_channels=3, padding=(117, 118, 108, 108),  add_out_layers=True)\n",
    "for k,v in check_point.items():\n",
    "    print(k)\n",
    "model.load_state_dict(check_point['model_state_dict'])"
   ]
  },
  {
   "cell_type": "code",
   "execution_count": 9,
   "metadata": {},
   "outputs": [
    {
     "name": "stdout",
     "output_type": "stream",
     "text": [
      "cuda:0\n",
      "(117, 118, 108, 108)\n",
      "Predicted image 1 saved\n",
      "Predicted image 2 saved\n",
      "Predicted image 3 saved\n",
      "Predicted image 4 saved\n",
      "Predicted image 5 saved\n",
      "Predicted image 6 saved\n",
      "Predicted image 7 saved\n",
      "Predicted image 8 saved\n",
      "Predicted image 9 saved\n",
      "Predicted image 10 saved\n",
      "Predicted image 11 saved\n",
      "Predicted image 12 saved\n",
      "Predicted image 13 saved\n",
      "Predicted image 14 saved\n",
      "Predicted image 15 saved\n",
      "Predicted image 16 saved\n",
      "Predicted image 17 saved\n",
      "Predicted image 18 saved\n",
      "Predicted image 19 saved\n",
      "Predicted image 20 saved\n"
     ]
    }
   ],
   "source": [
    "predict(model=model)"
   ]
  },
  {
   "cell_type": "code",
   "execution_count": 10,
   "metadata": {},
   "outputs": [],
   "source": [
    "from PIL import Image\n",
    "import matplotlib.pyplot as plt\n",
    "%matplotlib inline"
   ]
  },
  {
   "cell_type": "code",
   "execution_count": 11,
   "metadata": {},
   "outputs": [
    {
     "data": {
      "image/png": "[encoded data removed]",
      "text/plain": [
       "<Figure size 432x288 with 2 Axes>"
      ]
     },
     "metadata": {},
     "output_type": "display_data"
    }
   ],
   "source": [
    "img = Image.open(os.path.join(module_path, 'data/predict/1.png'))\n",
    "plt.imshow(img)\n",
    "plt.colorbar()\n",
    "plt.show()"
   ]
  },
  {
   "cell_type": "code",
   "execution_count": null,
   "metadata": {},
   "outputs": [],
   "source": []
  }
 ],
 "metadata": {
  "kernelspec": {
   "display_name": "Python 3",
   "language": "python",
   "name": "python3"
  },
  "language_info": {
   "codemirror_mode": {
    "name": "ipython",
    "version": 3
   },
   "file_extension": ".py",
   "mimetype": "text/x-python",
   "name": "python",
   "nbconvert_exporter": "python",
   "pygments_lexer": "ipython3",
   "version": "3.6.3"
  },
  "pycharm": {
   "stem_cell": {
    "cell_type": "raw",
    "metadata": {
     "collapsed": false
    },
    "source": []
   }
  }
 },
 "nbformat": 4,
 "nbformat_minor": 2
}
