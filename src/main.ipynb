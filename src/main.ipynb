{
 "cells": [
  {
   "cell_type": "code",
   "execution_count": 8,
   "metadata": {},
   "outputs": [],
   "source": [
    "import torch\n",
    "import numpy as np"
   ]
  },
  {
   "cell_type": "code",
   "execution_count": 9,
   "metadata": {},
   "outputs": [],
   "source": [
    "import os\n",
    "import sys\n",
    "module_path = os.path.abspath(os.path.join('..'))\n",
    "if module_path not in sys.path:\n",
    "    sys.path.append(module_path)"
   ]
  },
  {
   "cell_type": "code",
   "execution_count": 10,
   "metadata": {},
   "outputs": [],
   "source": [
    "from src.train import prepare_training_data, train_unet, train_unet_plusplus\n",
    "from src.predict import predict\n",
    "from src import UNet"
   ]
  },
  {
   "cell_type": "code",
   "execution_count": 14,
   "metadata": {},
   "outputs": [],
   "source": [
    "n_epochs = 10\n",
    "lr = 3e-4\n",
    "batch_size = 3\n",
    "weight_decay = 1e-6\n",
    "random_state = np.random.RandomState(0)"
   ]
  },
  {
   "cell_type": "code",
   "execution_count": 12,
   "metadata": {},
   "outputs": [],
   "source": [
    "train_loader, valid_loader = prepare_training_data(\n",
    "    train_size=0.90, \n",
    "    batch_size=batch_size, \n",
    "    random_state=random_state)"
   ]
  },
  {
   "cell_type": "code",
   "execution_count": 15,
   "metadata": {
    "scrolled": true
   },
   "outputs": [
    {
     "name": "stdout",
     "output_type": "stream",
     "text": [
      "cuda:0\n",
      "Epoch: 1\n",
      "[1, 5] loss: 0.257855\n",
      "[1, 10] loss: 0.249783\n",
      "[1, 15] loss: 0.245820\n",
      "[1, 20] loss: 0.240262\n",
      "[1, 25] loss: 0.253453\n",
      "[1, 30] loss: 0.263089\n",
      "[1, 35] loss: 0.241051\n",
      "[1, 40] loss: 0.241829\n",
      "[1, 45] loss: 0.251629\n",
      "[1, 50] loss: 0.254537\n",
      "[1, 55] loss: 0.255235\n",
      "[1, 60] loss: 0.249512\n",
      "[1, 65] loss: 0.237668\n",
      "Epoch: 2\n",
      "[2, 5] loss: 0.254941\n",
      "[2, 10] loss: 0.246974\n",
      "[2, 15] loss: 0.242668\n",
      "[2, 20] loss: 0.237959\n",
      "[2, 25] loss: 0.250548\n",
      "[2, 30] loss: 0.261624\n",
      "[2, 35] loss: 0.239961\n",
      "[2, 40] loss: 0.240835\n",
      "[2, 45] loss: 0.249318\n",
      "[2, 50] loss: 0.253504\n",
      "[2, 55] loss: 0.253643\n",
      "[2, 60] loss: 0.247415\n",
      "[2, 65] loss: 0.235018\n",
      "Epoch: 3\n",
      "[3, 5] loss: 0.252489\n",
      "[3, 10] loss: 0.244604\n",
      "[3, 15] loss: 0.241552\n",
      "[3, 20] loss: 0.236022\n",
      "[3, 25] loss: 0.249785\n",
      "[3, 30] loss: 0.258090\n",
      "[3, 35] loss: 0.238851\n",
      "[3, 40] loss: 0.239350\n",
      "[3, 45] loss: 0.248926\n",
      "[3, 50] loss: 0.252985\n",
      "[3, 55] loss: 0.253297\n",
      "[3, 60] loss: 0.245750\n",
      "[3, 65] loss: 0.233721\n",
      "Epoch: 4\n",
      "[4, 5] loss: 0.251542\n",
      "[4, 10] loss: 0.243957\n",
      "[4, 15] loss: 0.240097\n",
      "[4, 20] loss: 0.234988\n",
      "[4, 25] loss: 0.248313\n",
      "[4, 30] loss: 0.257294\n",
      "[4, 35] loss: 0.237792\n",
      "[4, 40] loss: 0.237248\n",
      "[4, 45] loss: 0.246505\n",
      "[4, 50] loss: 0.249511\n",
      "[4, 55] loss: 0.250603\n",
      "[4, 60] loss: 0.243824\n",
      "[4, 65] loss: 0.232045\n",
      "Epoch: 5\n",
      "[5, 5] loss: 0.250851\n",
      "[5, 10] loss: 0.242984\n",
      "[5, 15] loss: 0.239579\n",
      "[5, 20] loss: 0.234496\n",
      "[5, 25] loss: 0.247169\n",
      "[5, 30] loss: 0.256312\n",
      "[5, 35] loss: 0.236446\n",
      "[5, 40] loss: 0.237331\n",
      "[5, 45] loss: 0.245669\n",
      "[5, 50] loss: 0.250636\n",
      "[5, 55] loss: 0.250538\n",
      "[5, 60] loss: 0.244712\n",
      "[5, 65] loss: 0.230509\n",
      "Epoch: 6\n",
      "[6, 5] loss: 0.248774\n",
      "[6, 10] loss: 0.241105\n",
      "[6, 15] loss: 0.237693\n",
      "[6, 20] loss: 0.231477\n",
      "[6, 25] loss: 0.243858\n",
      "[6, 30] loss: 0.252549\n",
      "[6, 35] loss: 0.235260\n",
      "[6, 40] loss: 0.235218\n",
      "[6, 45] loss: 0.243208\n",
      "[6, 50] loss: 0.246532\n",
      "[6, 55] loss: 0.246973\n",
      "[6, 60] loss: 0.242013\n",
      "[6, 65] loss: 0.228105\n",
      "Epoch: 7\n",
      "[7, 5] loss: 0.247073\n",
      "[7, 10] loss: 0.239439\n",
      "[7, 15] loss: 0.236411\n",
      "[7, 20] loss: 0.231794\n",
      "[7, 25] loss: 0.244920\n",
      "[7, 30] loss: 0.252778\n",
      "[7, 35] loss: 0.234102\n",
      "[7, 40] loss: 0.233628\n",
      "[7, 45] loss: 0.242878\n",
      "[7, 50] loss: 0.246307\n",
      "[7, 55] loss: 0.245145\n",
      "[7, 60] loss: 0.240389\n",
      "[7, 65] loss: 0.226349\n",
      "Epoch: 8\n",
      "[8, 5] loss: 0.245533\n",
      "[8, 10] loss: 0.237554\n",
      "[8, 15] loss: 0.233663\n",
      "[8, 20] loss: 0.227833\n",
      "[8, 25] loss: 0.241735\n",
      "[8, 30] loss: 0.250209\n",
      "[8, 35] loss: 0.233252\n",
      "[8, 40] loss: 0.233370\n",
      "[8, 45] loss: 0.241256\n",
      "[8, 50] loss: 0.244424\n",
      "[8, 55] loss: 0.245458\n",
      "[8, 60] loss: 0.240208\n",
      "[8, 65] loss: 0.224513\n",
      "Epoch: 9\n",
      "[9, 5] loss: 0.244572\n",
      "[9, 10] loss: 0.236993\n",
      "[9, 15] loss: 0.232982\n",
      "[9, 20] loss: 0.226752\n",
      "[9, 25] loss: 0.240272\n",
      "[9, 30] loss: 0.247056\n",
      "[9, 35] loss: 0.230841\n",
      "[9, 40] loss: 0.230930\n",
      "[9, 45] loss: 0.239755\n",
      "[9, 50] loss: 0.242875\n",
      "[9, 55] loss: 0.242927\n",
      "[9, 60] loss: 0.238432\n",
      "[9, 65] loss: 0.223057\n",
      "Epoch: 10\n",
      "[10, 5] loss: 0.243158\n",
      "[10, 10] loss: 0.235112\n",
      "[10, 15] loss: 0.230089\n",
      "[10, 20] loss: 0.224633\n",
      "[10, 25] loss: 0.238492\n",
      "[10, 30] loss: 0.246002\n",
      "[10, 35] loss: 0.229771\n",
      "[10, 40] loss: 0.229473\n",
      "[10, 45] loss: 0.237609\n",
      "[10, 50] loss: 0.240745\n",
      "[10, 55] loss: 0.240677\n",
      "[10, 60] loss: 0.236048\n",
      "[10, 65] loss: 0.222670\n",
      "finish training\n",
      "Mean Dice Score: 0.620314\n"
     ]
    }
   ],
   "source": [
    "train_unet(train_loader, \n",
    "      valid_loader, \n",
    "      resume=True, \n",
    "      n_epochs=n_epochs, \n",
    "      lr=lr, \n",
    "      weight_decay=weight_decay, \n",
    "      loss_type='soft_dice', \n",
    "      add_out_layers=False,\n",
    "      weight_map=True)"
   ]
  },
  {
   "cell_type": "code",
   "execution_count": null,
   "metadata": {},
   "outputs": [],
   "source": [
    "check_point = torch.load('../check_point/check_point')"
   ]
  },
  {
   "cell_type": "code",
   "execution_count": null,
   "metadata": {},
   "outputs": [],
   "source": [
    "model = UNet(in_channels=3, padding=(117, 118, 108, 108),  add_out_layers=False)\n",
    "for k,v in check_point.items():\n",
    "    print(k)\n",
    "model.load_state_dict(check_point['model_state_dict'])"
   ]
  },
  {
   "cell_type": "code",
   "execution_count": null,
   "metadata": {},
   "outputs": [],
   "source": [
    "predict(model=model)"
   ]
  },
  {
   "cell_type": "code",
   "execution_count": null,
   "metadata": {},
   "outputs": [],
   "source": [
    "from PIL import Image\n",
    "import matplotlib.pyplot as plt\n",
    "%matplotlib inline"
   ]
  },
  {
   "cell_type": "code",
   "execution_count": null,
   "metadata": {},
   "outputs": [],
   "source": [
    "img = Image.open(os.path.join(module_path, 'data/predict/1.png'))\n",
    "plt.imshow(img)\n",
    "plt.colorbar()\n",
    "plt.show()"
   ]
  },
  {
   "cell_type": "code",
   "execution_count": null,
   "metadata": {},
   "outputs": [],
   "source": []
  }
 ],
 "metadata": {
  "kernelspec": {
   "display_name": "Python 3",
   "language": "python",
   "name": "python3"
  },
  "language_info": {
   "codemirror_mode": {
    "name": "ipython",
    "version": 3
   },
   "file_extension": ".py",
   "mimetype": "text/x-python",
   "name": "python",
   "nbconvert_exporter": "python",
   "pygments_lexer": "ipython3",
   "version": "3.6.3"
  },
  "pycharm": {
   "stem_cell": {
    "cell_type": "raw",
    "source": [],
    "metadata": {
     "collapsed": false
    }
   }
  }
 },
 "nbformat": 4,
 "nbformat_minor": 2
}