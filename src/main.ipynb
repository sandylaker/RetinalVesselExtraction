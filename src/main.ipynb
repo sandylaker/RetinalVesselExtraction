{
 "cells": [
  {
   "cell_type": "code",
   "execution_count": 1,
   "metadata": {},
   "outputs": [],
   "source": [
    "import torch\n",
    "import numpy as np"
   ]
  },
  {
   "cell_type": "code",
   "execution_count": 2,
   "metadata": {},
   "outputs": [],
   "source": [
    "import os\n",
    "import sys\n",
    "module_path = os.path.abspath(os.path.join('..'))\n",
    "if module_path not in sys.path:\n",
    "    sys.path.append(module_path)"
   ]
  },
  {
   "cell_type": "code",
   "execution_count": 3,
   "metadata": {},
   "outputs": [],
   "source": [
    "from src.train import prepare_training_data, train\n",
    "from src.predict import predict\n",
    "from src import UNet"
   ]
  },
  {
   "cell_type": "code",
   "execution_count": 9,
   "metadata": {},
   "outputs": [],
   "source": [
    "n_epochs = 10\n",
    "lr = 5e-4\n",
    "batch_size = 3\n",
    "weight_decay = 1e-6\n",
    "random_state = np.random.RandomState(0)"
   ]
  },
  {
   "cell_type": "code",
   "execution_count": 5,
   "metadata": {},
   "outputs": [],
   "source": [
    "train_loader, valid_loader = prepare_training_data(\n",
    "    train_size=0.95, \n",
    "    batch_size=batch_size, \n",
    "    random_state=random_state)"
   ]
  },
  {
   "cell_type": "code",
   "execution_count": null,
   "metadata": {
    "scrolled": true
   },
   "outputs": [
    {
     "name": "stdout",
     "output_type": "stream",
     "text": [
      "cuda:0\n",
      "Epoch: 1\n",
      "[1, 5] loss: 0.223893\n",
      "[1, 10] loss: 0.219532\n",
      "[1, 15] loss: 0.222479\n",
      "[1, 20] loss: 0.229795\n",
      "[1, 25] loss: 0.211655\n",
      "[1, 30] loss: 0.217307\n",
      "[1, 35] loss: 0.212085\n",
      "[1, 40] loss: 0.225741\n",
      "[1, 45] loss: 0.213575\n",
      "[1, 50] loss: 0.211183\n",
      "[1, 55] loss: 0.216365\n",
      "[1, 60] loss: 0.210574\n",
      "[1, 65] loss: 0.213562\n",
      "[1, 70] loss: 0.202000\n",
      "Epoch: 2\n",
      "[2, 5] loss: 0.221684\n",
      "[2, 10] loss: 0.218973\n",
      "[2, 15] loss: 0.222082\n",
      "[2, 20] loss: 0.233717\n",
      "[2, 25] loss: 0.210611\n",
      "[2, 30] loss: 0.215486\n",
      "[2, 35] loss: 0.211071\n",
      "[2, 40] loss: 0.222437\n",
      "[2, 45] loss: 0.212749\n",
      "[2, 50] loss: 0.210421\n",
      "[2, 55] loss: 0.214751\n",
      "[2, 60] loss: 0.207983\n",
      "[2, 65] loss: 0.211030\n",
      "[2, 70] loss: 0.199874\n",
      "Epoch: 3\n",
      "[3, 5] loss: 0.221627\n",
      "[3, 10] loss: 0.217094\n",
      "[3, 15] loss: 0.218879\n",
      "[3, 20] loss: 0.229763\n",
      "[3, 25] loss: 0.209338\n",
      "[3, 30] loss: 0.215511\n",
      "[3, 35] loss: 0.214002\n",
      "[3, 40] loss: 0.224740\n",
      "[3, 45] loss: 0.213335\n",
      "[3, 50] loss: 0.209940\n",
      "[3, 55] loss: 0.214573\n",
      "[3, 60] loss: 0.210006\n",
      "[3, 65] loss: 0.212637\n",
      "[3, 70] loss: 0.203309\n",
      "Epoch: 4\n",
      "[4, 5] loss: 0.223076\n",
      "[4, 10] loss: 0.218325\n",
      "[4, 15] loss: 0.221916\n",
      "[4, 20] loss: 0.227199\n",
      "[4, 25] loss: 0.210112\n",
      "[4, 30] loss: 0.214770\n",
      "[4, 35] loss: 0.209820\n",
      "[4, 40] loss: 0.222298\n",
      "[4, 45] loss: 0.209539\n",
      "[4, 50] loss: 0.209608\n",
      "[4, 55] loss: 0.212541\n",
      "[4, 60] loss: 0.206735\n",
      "[4, 65] loss: 0.209407\n",
      "[4, 70] loss: 0.197229\n",
      "Epoch: 5\n",
      "[5, 5] loss: 0.216950\n",
      "[5, 10] loss: 0.212300\n",
      "[5, 15] loss: 0.218142\n",
      "[5, 20] loss: 0.224099\n",
      "[5, 25] loss: 0.207876\n",
      "[5, 30] loss: 0.212703\n",
      "[5, 35] loss: 0.209247\n",
      "[5, 40] loss: 0.222484\n",
      "[5, 45] loss: 0.209842\n",
      "[5, 50] loss: 0.209163\n",
      "[5, 55] loss: 0.214276\n",
      "[5, 60] loss: 0.210006\n",
      "[5, 65] loss: 0.211291\n",
      "[5, 70] loss: 0.200336\n",
      "Epoch: 6\n",
      "[6, 5] loss: 0.220672\n",
      "[6, 10] loss: 0.216669\n",
      "[6, 15] loss: 0.220162\n",
      "[6, 20] loss: 0.227193\n",
      "[6, 25] loss: 0.208235\n",
      "[6, 30] loss: 0.213182\n",
      "[6, 35] loss: 0.207453\n",
      "[6, 40] loss: 0.219214\n",
      "[6, 45] loss: 0.209547\n",
      "[6, 50] loss: 0.209024\n",
      "[6, 55] loss: 0.213462\n",
      "[6, 60] loss: 0.207651\n",
      "[6, 65] loss: 0.208016\n",
      "[6, 70] loss: 0.196225\n",
      "Epoch: 7\n",
      "[7, 5] loss: 0.217938\n",
      "[7, 10] loss: 0.213602\n",
      "[7, 15] loss: 0.218711\n",
      "[7, 20] loss: 0.223253\n",
      "[7, 25] loss: 0.206872\n",
      "[7, 30] loss: 0.213900\n",
      "[7, 35] loss: 0.209560\n",
      "[7, 40] loss: 0.221362\n",
      "[7, 45] loss: 0.210053\n",
      "[7, 50] loss: 0.207973\n",
      "[7, 55] loss: 0.211341\n",
      "[7, 60] loss: 0.206849\n",
      "[7, 65] loss: 0.207119\n",
      "[7, 70] loss: 0.196498\n",
      "Epoch: 8\n",
      "[8, 5] loss: 0.215463\n",
      "[8, 10] loss: 0.210608\n",
      "[8, 15] loss: 0.215793\n",
      "[8, 20] loss: 0.221951\n",
      "[8, 25] loss: 0.203171\n",
      "[8, 30] loss: 0.211699\n",
      "[8, 35] loss: 0.209427\n",
      "[8, 40] loss: 0.219483\n",
      "[8, 45] loss: 0.207656\n",
      "[8, 50] loss: 0.207026\n",
      "[8, 55] loss: 0.211376\n",
      "[8, 60] loss: 0.205859\n",
      "[8, 65] loss: 0.206500\n",
      "[8, 70] loss: 0.198140\n",
      "Epoch: 9\n",
      "[9, 5] loss: 0.217150\n",
      "[9, 10] loss: 0.215649\n",
      "[9, 15] loss: 0.219046\n",
      "[9, 20] loss: 0.225888\n",
      "[9, 25] loss: 0.209282\n",
      "[9, 30] loss: 0.214376\n",
      "[9, 35] loss: 0.208309\n",
      "[9, 40] loss: 0.218192\n",
      "[9, 45] loss: 0.208998\n",
      "[9, 50] loss: 0.209646\n",
      "[9, 55] loss: 0.211239\n",
      "[9, 60] loss: 0.207097\n",
      "[9, 65] loss: 0.209041\n",
      "[9, 70] loss: 0.197942\n",
      "Epoch: 10\n",
      "[10, 5] loss: 0.218176\n",
      "[10, 10] loss: 0.221630\n",
      "[10, 15] loss: 0.225255\n",
      "[10, 20] loss: 0.242699\n",
      "[10, 25] loss: 0.214219\n",
      "[10, 30] loss: 0.223849\n",
      "[10, 35] loss: 0.216770\n",
      "[10, 40] loss: 0.229480\n",
      "[10, 45] loss: 0.217958\n",
      "[10, 50] loss: 0.215574\n"
     ]
    }
   ],
   "source": [
    "train(train_loader, \n",
    "      valid_loader, \n",
    "      resume=True, \n",
    "      n_epochs=n_epochs, \n",
    "      lr=lr, \n",
    "      weight_decay=weight_decay, \n",
    "      loss_type='soft_dice', add_out_layers=False)"
   ]
  },
  {
   "cell_type": "code",
   "execution_count": 11,
   "metadata": {},
   "outputs": [],
   "source": [
    "check_point = torch.load('../check_point/check_point')"
   ]
  },
  {
   "cell_type": "code",
   "execution_count": 12,
   "metadata": {},
   "outputs": [
    {
     "name": "stdout",
     "output_type": "stream",
     "text": [
      "epoch\n",
      "model_state_dict\n",
      "optimizer_state_dict\n"
     ]
    },
    {
     "data": {
      "text/plain": [
       "IncompatibleKeys(missing_keys=[], unexpected_keys=[])"
      ]
     },
     "execution_count": 12,
     "metadata": {},
     "output_type": "execute_result"
    }
   ],
   "source": [
    "model = UNet(in_channels=3, padding=(117, 118, 108, 108),  add_out_layers=True)\n",
    "for k,v in check_point.items():\n",
    "    print(k)\n",
    "model.load_state_dict(check_point['model_state_dict'])"
   ]
  },
  {
   "cell_type": "code",
   "execution_count": 13,
   "metadata": {},
   "outputs": [
    {
     "name": "stdout",
     "output_type": "stream",
     "text": [
      "cuda:0\n",
      "(117, 118, 108, 108)\n",
      "Predicted image 1 saved\n",
      "Predicted image 2 saved\n",
      "Predicted image 3 saved\n",
      "Predicted image 4 saved\n",
      "Predicted image 5 saved\n",
      "Predicted image 6 saved\n",
      "Predicted image 7 saved\n",
      "Predicted image 8 saved\n",
      "Predicted image 9 saved\n",
      "Predicted image 10 saved\n",
      "Predicted image 11 saved\n",
      "Predicted image 12 saved\n",
      "Predicted image 13 saved\n",
      "Predicted image 14 saved\n",
      "Predicted image 15 saved\n",
      "Predicted image 16 saved\n",
      "Predicted image 17 saved\n",
      "Predicted image 18 saved\n",
      "Predicted image 19 saved\n",
      "Predicted image 20 saved\n"
     ]
    }
   ],
   "source": [
    "predict(model=model)"
   ]
  },
  {
   "cell_type": "code",
   "execution_count": 14,
   "metadata": {},
   "outputs": [],
   "source": [
    "from PIL import Image\n",
    "import matplotlib.pyplot as plt\n",
    "%matplotlib inline"
   ]
  },
  {
   "cell_type": "code",
   "execution_count": 15,
   "metadata": {},
   "outputs": [
    {
     "data": {
      "image/png": "[encoded data removed]",
      "text/plain": [
       "<Figure size 432x288 with 2 Axes>"
      ]
     },
     "metadata": {},
     "output_type": "display_data"
    }
   ],
   "source": [
    "img = Image.open(os.path.join(module_path, 'data/predict/1.png'))\n",
    "plt.imshow(img)\n",
    "plt.colorbar()\n",
    "plt.show()"
   ]
  },
  {
   "cell_type": "code",
   "execution_count": null,
   "metadata": {},
   "outputs": [],
   "source": []
  }
 ],
 "metadata": {
  "kernelspec": {
   "display_name": "Python 3",
   "language": "python",
   "name": "python3"
  },
  "language_info": {
   "codemirror_mode": {
    "name": "ipython",
    "version": 3
   },
   "file_extension": ".py",
   "mimetype": "text/x-python",
   "name": "python",
   "nbconvert_exporter": "python",
   "pygments_lexer": "ipython3",
   "version": "3.6.3"
  },
  "pycharm": {
   "stem_cell": {
    "cell_type": "raw",
    "metadata": {
     "collapsed": false
    },
    "source": []
   }
  }
 },
 "nbformat": 4,
 "nbformat_minor": 2
}
