{
 "cells": [
  {
   "cell_type": "code",
   "execution_count": 8,
   "metadata": {},
   "outputs": [],
   "source": [
    "import torch\n",
    "import numpy as np"
   ]
  },
  {
   "cell_type": "code",
   "execution_count": 9,
   "metadata": {},
   "outputs": [],
   "source": [
    "import os\n",
    "import sys\n",
    "module_path = os.path.abspath(os.path.join('..'))\n",
    "if module_path not in sys.path:\n",
    "    sys.path.append(module_path)"
   ]
  },
  {
   "cell_type": "code",
   "execution_count": 10,
   "metadata": {},
   "outputs": [],
   "source": [
    "from src.train import prepare_training_data, train_unet, train_unet_plusplus, validate\n",
    "from src.predict import predict\n",
    "from src.unet import UNet\n",
    "from src.unet_plusplus import UNetPlusPlus"
   ]
  },
  {
   "cell_type": "code",
   "execution_count": 23,
   "metadata": {},
   "outputs": [],
   "source": [
    "n_epochs = 3\n",
    "lr = 1e-2\n",
    "batch_size = 1\n",
    "weight_decay = 1e-5\n",
    "random_state = np.random.RandomState(0)"
   ]
  },
  {
   "cell_type": "code",
   "execution_count": 18,
   "metadata": {},
   "outputs": [],
   "source": [
    "train_loader, valid_loader = prepare_training_data(\n",
    "    train_size=0.90, \n",
    "    batch_size=batch_size, \n",
    "    random_state=random_state)"
   ]
  },
  {
   "cell_type": "code",
   "execution_count": 24,
   "metadata": {
    "pycharm": {
     "name": "#%%\n"
    },
    "scrolled": true
   },
   "outputs": [
    {
     "name": "stdout",
     "output_type": "stream",
     "text": [
      "cuda:0\n",
      "Epoch: 1\n",
      "[1, 5] loss: 0.481320\n",
      "[1, 10] loss: 0.413456\n",
      "[1, 15] loss: 0.423409\n",
      "[1, 20] loss: 0.460115\n",
      "[1, 25] loss: 0.405935\n",
      "[1, 30] loss: 0.472927\n",
      "[1, 35] loss: 0.419854\n",
      "[1, 40] loss: 0.429726\n",
      "[1, 45] loss: 0.398515\n",
      "[1, 50] loss: 0.418895\n",
      "[1, 55] loss: 0.416661\n",
      "[1, 60] loss: 0.436695\n",
      "[1, 65] loss: 0.517389\n",
      "[1, 70] loss: 0.470606\n",
      "[1, 75] loss: 0.480133\n",
      "[1, 80] loss: 0.441316\n",
      "[1, 85] loss: 0.411550\n",
      "[1, 90] loss: 0.423343\n",
      "[1, 95] loss: 0.384233\n",
      "[1, 100] loss: 0.361015\n",
      "[1, 105] loss: 0.471670\n",
      "[1, 110] loss: 0.408194\n",
      "[1, 115] loss: 0.384237\n",
      "[1, 120] loss: 0.377470\n",
      "[1, 125] loss: 0.445061\n",
      "[1, 130] loss: 0.440136\n",
      "[1, 135] loss: 0.412191\n",
      "[1, 140] loss: 0.514634\n",
      "[1, 145] loss: 0.422494\n",
      "[1, 150] loss: 0.379620\n",
      "[1, 155] loss: 0.435395\n",
      "[1, 160] loss: 0.397705\n",
      "[1, 165] loss: 0.474443\n",
      "[1, 170] loss: 0.466000\n",
      "[1, 175] loss: 0.420279\n",
      "[1, 180] loss: 0.390700\n",
      "[1, 185] loss: 0.359817\n",
      "[1, 190] loss: 0.404736\n",
      "[1, 195] loss: 0.428372\n",
      "Epoch: 2\n",
      "[2, 5] loss: 0.463818\n",
      "[2, 10] loss: 0.402145\n",
      "[2, 15] loss: 0.415160\n",
      "[2, 20] loss: 0.447741\n",
      "[2, 25] loss: 0.401351\n",
      "[2, 30] loss: 0.465641\n",
      "[2, 35] loss: 0.411804\n",
      "[2, 40] loss: 0.421255\n",
      "[2, 45] loss: 0.390632\n",
      "[2, 50] loss: 0.411582\n",
      "[2, 55] loss: 0.413049\n",
      "[2, 60] loss: 0.431394\n",
      "[2, 65] loss: 0.510669\n",
      "[2, 70] loss: 0.463931\n",
      "[2, 75] loss: 0.477349\n",
      "[2, 80] loss: 0.434043\n",
      "[2, 85] loss: 0.408139\n",
      "[2, 90] loss: 0.420227\n",
      "[2, 95] loss: 0.382283\n",
      "[2, 100] loss: 0.357717\n",
      "[2, 105] loss: 0.471616\n",
      "[2, 110] loss: 0.406435\n",
      "[2, 115] loss: 0.381163\n",
      "[2, 120] loss: 0.370396\n",
      "[2, 125] loss: 0.439045\n",
      "[2, 130] loss: 0.430514\n",
      "[2, 135] loss: 0.404505\n",
      "[2, 140] loss: 0.500613\n",
      "[2, 145] loss: 0.413976\n",
      "[2, 150] loss: 0.375337\n",
      "[2, 155] loss: 0.429314\n",
      "[2, 160] loss: 0.390801\n",
      "[2, 165] loss: 0.469940\n",
      "[2, 170] loss: 0.460013\n",
      "[2, 175] loss: 0.415977\n",
      "[2, 180] loss: 0.383590\n",
      "[2, 185] loss: 0.353942\n",
      "[2, 190] loss: 0.398953\n",
      "[2, 195] loss: 0.423972\n",
      "Epoch: 3\n",
      "[3, 5] loss: 0.455625\n",
      "[3, 10] loss: 0.394048\n",
      "[3, 15] loss: 0.404430\n",
      "[3, 20] loss: 0.441214\n",
      "[3, 25] loss: 0.392577\n",
      "[3, 30] loss: 0.465410\n",
      "[3, 35] loss: 0.408974\n",
      "[3, 40] loss: 0.414800\n",
      "[3, 45] loss: 0.386017\n",
      "[3, 50] loss: 0.407091\n",
      "[3, 55] loss: 0.406648\n",
      "[3, 60] loss: 0.425791\n",
      "[3, 65] loss: 0.505640\n",
      "[3, 70] loss: 0.457864\n",
      "[3, 75] loss: 0.467766\n",
      "[3, 80] loss: 0.428920\n",
      "[3, 85] loss: 0.402299\n",
      "[3, 90] loss: 0.411233\n",
      "[3, 95] loss: 0.371409\n",
      "[3, 100] loss: 0.350993\n",
      "[3, 105] loss: 0.462117\n",
      "[3, 110] loss: 0.399829\n",
      "[3, 115] loss: 0.373594\n",
      "[3, 120] loss: 0.365211\n",
      "[3, 125] loss: 0.430485\n",
      "[3, 130] loss: 0.428106\n",
      "[3, 135] loss: 0.401041\n",
      "[3, 140] loss: 0.497628\n",
      "[3, 145] loss: 0.414069\n",
      "[3, 150] loss: 0.371769\n",
      "[3, 155] loss: 0.428282\n",
      "[3, 160] loss: 0.389104\n",
      "[3, 165] loss: 0.464111\n",
      "[3, 170] loss: 0.456038\n",
      "[3, 175] loss: 0.411623\n",
      "[3, 180] loss: 0.380324\n",
      "[3, 185] loss: 0.348851\n",
      "[3, 190] loss: 0.394388\n",
      "[3, 195] loss: 0.419863\n",
      "finish training\n",
      "cuda:0\n",
      "Mean Dice Score: 0.653005\n"
     ]
    }
   ],
   "source": [
    "train_unet_plusplus(\n",
    "    train_loader,\n",
    "    valid_loader,\n",
    "    resume=True,\n",
    "    n_epochs=n_epochs,\n",
    "    lr=lr,\n",
    "    weight_decay=weight_decay,\n",
    "    loss_type='bce',\n",
    ")"
   ]
  },
  {
   "cell_type": "code",
   "execution_count": null,
   "metadata": {
    "scrolled": true
   },
   "outputs": [],
   "source": [
    "# train_unet(train_loader, \n",
    "#       valid_loader, \n",
    "#       resume=True, \n",
    "#       n_epochs=n_epochs, \n",
    "#       lr=lr, \n",
    "#       weight_decay=weight_decay, \n",
    "#       loss_type='soft_dice', \n",
    "#       add_out_layers=False,\n",
    "#       weight_map=True)"
   ]
  },
  {
   "cell_type": "code",
   "execution_count": 20,
   "metadata": {},
   "outputs": [],
   "source": [
    "check_point = torch.load('../check_point/check_point')"
   ]
  },
  {
   "cell_type": "code",
   "execution_count": 21,
   "metadata": {},
   "outputs": [
    {
     "name": "stdout",
     "output_type": "stream",
     "text": [
      "epoch\n",
      "model_state_dict\n",
      "optimizer_state_dict\n"
     ]
    },
    {
     "data": {
      "text/plain": [
       "IncompatibleKeys(missing_keys=[], unexpected_keys=[])"
      ]
     },
     "execution_count": 21,
     "metadata": {},
     "output_type": "execute_result"
    }
   ],
   "source": [
    "model = UNetPlusPlus(in_channels=3, n_classes=2, padding=(117, 118, 108, 108))\n",
    "for k,v in check_point.items():\n",
    "    print(k)\n",
    "model.load_state_dict(check_point['model_state_dict'])"
   ]
  },
  {
   "cell_type": "code",
   "execution_count": 22,
   "metadata": {},
   "outputs": [
    {
     "name": "stdout",
     "output_type": "stream",
     "text": [
      "cuda:0\n",
      "Mean Dice Score: 0.657998\n",
      "cuda:0\n",
      "Mean Dice Score: 0.657994\n",
      "cuda:0\n",
      "Mean Dice Score: 0.662256\n",
      "cuda:0\n",
      "Mean Dice Score: 0.666686\n"
     ]
    }
   ],
   "source": [
    "validate(model, valid_loader, prune_level=4)\n",
    "validate(model, valid_loader, prune_level=3)\n",
    "validate(model, valid_loader, prune_level=2)\n",
    "validate(model, valid_loader, prune_level=1)"
   ]
  },
  {
   "cell_type": "code",
   "execution_count": null,
   "metadata": {},
   "outputs": [],
   "source": [
    "# model = UNet(in_channels=3, padding=(117, 118, 108, 108),  add_out_layers=False)\n",
    "# for k,v in check_point.items():\n",
    "#     print(k)\n",
    "# model.load_state_dict(check_point['model_state_dict'])"
   ]
  },
  {
   "cell_type": "code",
   "execution_count": 26,
   "metadata": {},
   "outputs": [
    {
     "name": "stdout",
     "output_type": "stream",
     "text": [
      "cuda:0\n",
      "(117, 118, 108, 108)\n",
      "Model: UNet++\n",
      "Predicted image 1 saved\n",
      "Model: UNet++\n",
      "Predicted image 2 saved\n",
      "Model: UNet++\n",
      "Predicted image 3 saved\n",
      "Model: UNet++\n",
      "Predicted image 4 saved\n",
      "Model: UNet++\n",
      "Predicted image 5 saved\n",
      "Model: UNet++\n",
      "Predicted image 6 saved\n",
      "Model: UNet++\n",
      "Predicted image 7 saved\n",
      "Model: UNet++\n",
      "Predicted image 8 saved\n",
      "Model: UNet++\n",
      "Predicted image 9 saved\n",
      "Model: UNet++\n",
      "Predicted image 10 saved\n",
      "Model: UNet++\n",
      "Predicted image 11 saved\n",
      "Model: UNet++\n",
      "Predicted image 12 saved\n",
      "Model: UNet++\n",
      "Predicted image 13 saved\n",
      "Model: UNet++\n",
      "Predicted image 14 saved\n",
      "Model: UNet++\n",
      "Predicted image 15 saved\n",
      "Model: UNet++\n",
      "Predicted image 16 saved\n",
      "Model: UNet++\n",
      "Predicted image 17 saved\n",
      "Model: UNet++\n",
      "Predicted image 18 saved\n",
      "Model: UNet++\n",
      "Predicted image 19 saved\n",
      "Model: UNet++\n",
      "Predicted image 20 saved\n"
     ]
    }
   ],
   "source": [
    "predict(model=model, device='gpu')"
   ]
  },
  {
   "cell_type": "code",
   "execution_count": 27,
   "metadata": {},
   "outputs": [],
   "source": [
    "from PIL import Image\n",
    "import matplotlib.pyplot as plt\n",
    "%matplotlib inline"
   ]
  },
  {
   "cell_type": "code",
   "execution_count": 30,
   "metadata": {},
   "outputs": [
    {
     "data": {
      "image/png": "[encoded data removed]",
      "text/plain": [
       "<Figure size 432x288 with 2 Axes>"
      ]
     },
     "metadata": {},
     "output_type": "display_data"
    }
   ],
   "source": [
    "img = Image.open(os.path.join(module_path, 'data/predict/3.png'))\n",
    "plt.imshow(img)\n",
    "plt.colorbar()\n",
    "plt.show()"
   ]
  },
  {
   "cell_type": "code",
   "execution_count": null,
   "metadata": {},
   "outputs": [],
   "source": [
    "device = ('cuda:0' if torch.cuda.is_available() else 'cpu')"
   ]
  },
  {
   "cell_type": "code",
   "execution_count": null,
   "metadata": {},
   "outputs": [],
   "source": [
    "torch.cuda.get_device_capability(device)"
   ]
  },
  {
   "cell_type": "code",
   "execution_count": null,
   "metadata": {},
   "outputs": [],
   "source": [
    "torch.cuda.max_memory_allocated(device=device)/1024/1024"
   ]
  },
  {
   "cell_type": "code",
   "execution_count": null,
   "metadata": {},
   "outputs": [],
   "source": []
  }
 ],
 "metadata": {
  "kernelspec": {
   "display_name": "Python 3",
   "language": "python",
   "name": "python3"
  },
  "language_info": {
   "codemirror_mode": {
    "name": "ipython",
    "version": 3
   },
   "file_extension": ".py",
   "mimetype": "text/x-python",
   "name": "python",
   "nbconvert_exporter": "python",
   "pygments_lexer": "ipython3",
   "version": "3.6.3"
  },
  "pycharm": {
   "stem_cell": {
    "cell_type": "raw",
    "metadata": {
     "collapsed": false
    },
    "source": []
   }
  }
 },
 "nbformat": 4,
 "nbformat_minor": 2
}
