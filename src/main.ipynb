{
 "cells": [
  {
   "cell_type": "code",
   "execution_count": 1,
   "metadata": {},
   "outputs": [],
   "source": [
    "import torch\n",
    "import numpy as np"
   ]
  },
  {
   "cell_type": "code",
   "execution_count": 2,
   "metadata": {},
   "outputs": [],
   "source": [
    "import os\n",
    "import sys\n",
    "module_path = os.path.abspath(os.path.join('..'))\n",
    "if module_path not in sys.path:\n",
    "    sys.path.append(module_path)"
   ]
  },
  {
   "cell_type": "code",
   "execution_count": 3,
   "metadata": {},
   "outputs": [],
   "source": [
    "from src.train import prepare_training_data, train\n",
    "from src.predict import predict\n",
    "from src import UNet"
   ]
  },
  {
   "cell_type": "code",
   "execution_count": 4,
   "metadata": {},
   "outputs": [],
   "source": [
    "n_epochs = 2\n",
    "lr = 1e-5\n",
    "batch_size = 1\n",
    "weight_decay = 5e-4\n",
    "random_state = np.random.RandomState(0)"
   ]
  },
  {
   "cell_type": "code",
   "execution_count": 5,
   "metadata": {},
   "outputs": [],
   "source": [
    "train_loader, valid_loader = prepare_training_data(\n",
    "    train_size=0.8, \n",
    "    batch_size=batch_size, \n",
    "    random_state=random_state)"
   ]
  },
  {
   "cell_type": "code",
   "execution_count": 6,
   "metadata": {
    "scrolled": true
   },
   "outputs": [
    {
     "name": "stdout",
     "output_type": "stream",
     "text": [
      "cuda:0\n",
      "Epoch: 1\n",
      "[1, 5] loss: 0.210371\n",
      "[1, 10] loss: 0.222582\n",
      "[1, 15] loss: 0.250368\n",
      "[1, 20] loss: 0.199282\n",
      "[1, 25] loss: 0.250918\n",
      "[1, 30] loss: 0.192033\n",
      "[1, 35] loss: 0.223856\n",
      "[1, 40] loss: 0.198933\n",
      "[1, 45] loss: 0.207225\n",
      "[1, 50] loss: 0.218007\n",
      "[1, 55] loss: 0.204333\n",
      "[1, 60] loss: 0.188155\n",
      "[1, 65] loss: 0.202798\n",
      "[1, 70] loss: 0.209901\n",
      "[1, 75] loss: 0.210135\n",
      "[1, 80] loss: 0.206648\n",
      "[1, 85] loss: 0.208823\n",
      "[1, 90] loss: 0.211499\n",
      "[1, 95] loss: 0.198412\n",
      "[1, 100] loss: 0.199041\n",
      "[1, 105] loss: 0.232197\n",
      "[1, 110] loss: 0.205927\n",
      "[1, 115] loss: 0.207667\n",
      "[1, 120] loss: 0.194071\n",
      "[1, 125] loss: 0.198862\n",
      "[1, 130] loss: 0.209783\n",
      "[1, 135] loss: 0.196382\n",
      "[1, 140] loss: 0.203503\n",
      "[1, 145] loss: 0.230017\n",
      "[1, 150] loss: 0.193160\n",
      "[1, 155] loss: 0.221343\n",
      "[1, 160] loss: 0.223728\n",
      "[1, 165] loss: 0.214815\n",
      "[1, 170] loss: 0.194295\n",
      "[1, 175] loss: 0.220109\n",
      "Epoch: 2\n",
      "[2, 5] loss: 0.206866\n",
      "[2, 10] loss: 0.213724\n",
      "[2, 15] loss: 0.237586\n",
      "[2, 20] loss: 0.193247\n",
      "[2, 25] loss: 0.235503\n",
      "[2, 30] loss: 0.185612\n",
      "[2, 35] loss: 0.214999\n",
      "[2, 40] loss: 0.190076\n",
      "[2, 45] loss: 0.194035\n",
      "[2, 50] loss: 0.204344\n",
      "[2, 55] loss: 0.197561\n",
      "[2, 60] loss: 0.182832\n",
      "[2, 65] loss: 0.193125\n",
      "[2, 70] loss: 0.203871\n",
      "[2, 75] loss: 0.203733\n",
      "[2, 80] loss: 0.197902\n",
      "[2, 85] loss: 0.200436\n",
      "[2, 90] loss: 0.202048\n",
      "[2, 95] loss: 0.190690\n",
      "[2, 100] loss: 0.191516\n",
      "[2, 105] loss: 0.217159\n",
      "[2, 110] loss: 0.198340\n",
      "[2, 115] loss: 0.197942\n",
      "[2, 120] loss: 0.186387\n",
      "[2, 125] loss: 0.191076\n",
      "[2, 130] loss: 0.202571\n",
      "[2, 135] loss: 0.189119\n",
      "[2, 140] loss: 0.192423\n",
      "[2, 145] loss: 0.216721\n",
      "[2, 150] loss: 0.187458\n",
      "[2, 155] loss: 0.213807\n",
      "[2, 160] loss: 0.211746\n",
      "[2, 165] loss: 0.205571\n",
      "[2, 170] loss: 0.186255\n",
      "[2, 175] loss: 0.206911\n",
      "finish training\n",
      "Mean Dice Score: 0.752982\n"
     ]
    }
   ],
   "source": [
    "train(train_loader, \n",
    "      valid_loader, \n",
    "      resume=True, \n",
    "      n_epochs=n_epochs, \n",
    "      lr=lr, \n",
    "      weight_decay=weight_decay, \n",
    "      loss_type='soft_dice', add_out_layers=True)"
   ]
  },
  {
   "cell_type": "code",
   "execution_count": 12,
   "metadata": {},
   "outputs": [],
   "source": [
    "check_point = torch.load('../check_point/check_point')"
   ]
  },
  {
   "cell_type": "code",
   "execution_count": 16,
   "metadata": {},
   "outputs": [
    {
     "name": "stdout",
     "output_type": "stream",
     "text": [
      "epoch\n",
      "model_state_dict\n",
      "optimizer_state_dict\n"
     ]
    },
    {
     "data": {
      "text/plain": [
       "IncompatibleKeys(missing_keys=[], unexpected_keys=[])"
      ]
     },
     "execution_count": 16,
     "metadata": {},
     "output_type": "execute_result"
    }
   ],
   "source": [
    "model = UNet(in_channels=3, padding=(117, 118, 108, 108),  add_out_layers=True)\n",
    "for k,v in check_point.items():\n",
    "    print(k)\n",
    "model.load_state_dict(check_point['model_state_dict'])"
   ]
  },
  {
   "cell_type": "code",
   "execution_count": 17,
   "metadata": {},
   "outputs": [
    {
     "name": "stdout",
     "output_type": "stream",
     "text": [
      "cuda:0\n",
      "(117, 118, 108, 108)\n"
     ]
    },
    {
     "ename": "TypeError",
     "evalue": "sigmoid(): argument 'input' (position 1) must be Tensor, not list",
     "output_type": "error",
     "traceback": [
      "\u001b[0;31m---------------------------------------------------------------------------\u001b[0m",
      "\u001b[0;31mTypeError\u001b[0m                                 Traceback (most recent call last)",
      "\u001b[0;32m<ipython-input-17-77678733ed6a>\u001b[0m in \u001b[0;36m<module>\u001b[0;34m()\u001b[0m\n\u001b[0;32m----> 1\u001b[0;31m \u001b[0mpredict\u001b[0m\u001b[0;34m(\u001b[0m\u001b[0mmodel\u001b[0m\u001b[0;34m=\u001b[0m\u001b[0mmodel\u001b[0m\u001b[0;34m)\u001b[0m\u001b[0;34m\u001b[0m\u001b[0m\n\u001b[0m",
      "\u001b[0;32m~/prs/workspace/RetinalVesselExtraction/src/predict.py\u001b[0m in \u001b[0;36mpredict\u001b[0;34m(model, root, threshold)\u001b[0m\n\u001b[1;32m     33\u001b[0m \u001b[0;34m\u001b[0m\u001b[0m\n\u001b[1;32m     34\u001b[0m         \u001b[0mlogits\u001b[0m \u001b[0;34m=\u001b[0m \u001b[0mmodel\u001b[0m\u001b[0;34m(\u001b[0m\u001b[0mimage\u001b[0m\u001b[0;34m,\u001b[0m \u001b[0mtrain_mode\u001b[0m\u001b[0;34m=\u001b[0m\u001b[0;32mFalse\u001b[0m\u001b[0;34m)\u001b[0m\u001b[0;34m\u001b[0m\u001b[0m\n\u001b[0;32m---> 35\u001b[0;31m         \u001b[0mproba\u001b[0m \u001b[0;34m=\u001b[0m \u001b[0mtorch\u001b[0m\u001b[0;34m.\u001b[0m\u001b[0msigmoid\u001b[0m\u001b[0;34m(\u001b[0m\u001b[0mlogits\u001b[0m\u001b[0;34m)\u001b[0m\u001b[0;34m\u001b[0m\u001b[0m\n\u001b[0m\u001b[1;32m     36\u001b[0m         \u001b[0mpredicted\u001b[0m \u001b[0;34m=\u001b[0m \u001b[0;34m(\u001b[0m\u001b[0mproba\u001b[0m \u001b[0;34m>\u001b[0m \u001b[0mthreshold\u001b[0m\u001b[0;34m)\u001b[0m\u001b[0;34m.\u001b[0m\u001b[0mtype\u001b[0m\u001b[0;34m(\u001b[0m\u001b[0mtorch\u001b[0m\u001b[0;34m.\u001b[0m\u001b[0mfloat\u001b[0m\u001b[0;34m)\u001b[0m\u001b[0;34m\u001b[0m\u001b[0m\n\u001b[1;32m     37\u001b[0m \u001b[0;34m\u001b[0m\u001b[0m\n",
      "\u001b[0;31mTypeError\u001b[0m: sigmoid(): argument 'input' (position 1) must be Tensor, not list"
     ]
    }
   ],
   "source": [
    "predict(model=model)"
   ]
  },
  {
   "cell_type": "code",
   "execution_count": null,
   "metadata": {},
   "outputs": [],
   "source": [
    "from PIL import Image\n",
    "import matplotlib.pyplot as plt\n",
    "%matplotlib inline"
   ]
  },
  {
   "cell_type": "code",
   "execution_count": null,
   "metadata": {},
   "outputs": [],
   "source": [
    "img = Image.open(os.path.join(module_path, 'data/predict/1.png'))\n",
    "plt.imshow(img)\n",
    "plt.colorbar()\n",
    "plt.show()"
   ]
  },
  {
   "cell_type": "code",
   "execution_count": null,
   "metadata": {},
   "outputs": [],
   "source": []
  }
 ],
 "metadata": {
  "kernelspec": {
   "display_name": "Python 3",
   "language": "python",
   "name": "python3"
  },
  "language_info": {
   "codemirror_mode": {
    "name": "ipython",
    "version": 3
   },
   "file_extension": ".py",
   "mimetype": "text/x-python",
   "name": "python",
   "nbconvert_exporter": "python",
   "pygments_lexer": "ipython3",
   "version": "3.6.3"
  },
  "pycharm": {
   "stem_cell": {
    "cell_type": "raw",
    "metadata": {
     "collapsed": false
    },
    "source": []
   }
  }
 },
 "nbformat": 4,
 "nbformat_minor": 2
}
