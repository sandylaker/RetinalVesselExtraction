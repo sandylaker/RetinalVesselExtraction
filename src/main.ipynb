{
 "cells": [
  {
   "cell_type": "code",
   "execution_count": 1,
   "metadata": {},
   "outputs": [],
   "source": [
    "import torch\n",
    "import numpy as np"
   ]
  },
  {
   "cell_type": "code",
   "execution_count": 2,
   "metadata": {},
   "outputs": [],
   "source": [
    "import os\n",
    "import sys\n",
    "module_path = os.path.abspath(os.path.join('..'))\n",
    "if module_path not in sys.path:\n",
    "    sys.path.append(module_path)"
   ]
  },
  {
   "cell_type": "code",
   "execution_count": 3,
   "metadata": {},
   "outputs": [],
   "source": [
    "from src.train import prepare_training_data, train_unet, train_unet_plusplus, validate\n",
    "from src.predict import predict\n",
    "from src.unet import UNet\n",
    "from src.unet_plusplus import UNetPlusPlus"
   ]
  },
  {
   "cell_type": "code",
   "execution_count": 13,
   "metadata": {},
   "outputs": [],
   "source": [
    "n_epochs = 3\n",
    "lr = 5e-4\n",
    "batch_size = 3\n",
    "weight_decay = 1e-6\n",
    "random_state = np.random.RandomState(0)"
   ]
  },
  {
   "cell_type": "code",
   "execution_count": 5,
   "metadata": {},
   "outputs": [],
   "source": [
    "train_loader, valid_loader = prepare_training_data(\n",
    "    train_size=0.90, \n",
    "    batch_size=batch_size, \n",
    "    random_state=random_state)"
   ]
  },
  {
   "cell_type": "code",
   "execution_count": null,
   "metadata": {
    "pycharm": {
     "name": "#%%\n"
    },
    "scrolled": true
   },
   "outputs": [],
   "source": [
    "# train_unet_plusplus(\n",
    "#     train_loader,\n",
    "#     valid_loader,\n",
    "#     resume=False,\n",
    "#     n_epochs=n_epochs,\n",
    "#     lr=lr,\n",
    "#     weight_decay=weight_decay,\n",
    "#     loss_type='soft_dice',\n",
    "# )"
   ]
  },
  {
   "cell_type": "code",
   "execution_count": null,
   "metadata": {
    "scrolled": true
   },
   "outputs": [
    {
     "name": "stdout",
     "output_type": "stream",
     "text": [
      "cuda:0\n",
      "Epoch: 1\n",
      "[1, 5] loss: 0.198723\n",
      "[1, 10] loss: 0.208264\n",
      "[1, 15] loss: 0.202404\n",
      "[1, 20] loss: 0.196981\n",
      "[1, 25] loss: 0.207662\n",
      "[1, 30] loss: 0.212288\n",
      "[1, 35] loss: 0.208842\n",
      "[1, 40] loss: 0.208135\n",
      "[1, 45] loss: 0.205568\n",
      "[1, 50] loss: 0.191215\n",
      "[1, 55] loss: 0.205126\n",
      "[1, 60] loss: 0.206571\n",
      "[1, 65] loss: 0.206434\n",
      "[1, 70] loss: 0.207149\n",
      "[1, 75] loss: 0.197308\n",
      "[1, 80] loss: 0.202935\n",
      "[1, 85] loss: 0.205859\n",
      "[1, 90] loss: 0.205485\n",
      "[1, 95] loss: 0.199728\n",
      "[1, 100] loss: 0.207677\n",
      "[1, 105] loss: 0.202311\n",
      "[1, 110] loss: 0.210386\n",
      "[1, 115] loss: 0.204643\n",
      "[1, 120] loss: 0.213051\n",
      "[1, 125] loss: 0.204541\n",
      "Epoch: 2\n",
      "[2, 5] loss: 0.199964\n",
      "[2, 10] loss: 0.207251\n",
      "[2, 15] loss: 0.203838\n",
      "[2, 20] loss: 0.198810\n",
      "[2, 25] loss: 0.208406\n",
      "[2, 30] loss: 0.213337\n",
      "[2, 35] loss: 0.209480\n",
      "[2, 40] loss: 0.206532\n",
      "[2, 45] loss: 0.204807\n",
      "[2, 50] loss: 0.189899\n",
      "[2, 55] loss: 0.204398\n",
      "[2, 60] loss: 0.205461\n",
      "[2, 65] loss: 0.204472\n",
      "[2, 70] loss: 0.206468\n",
      "[2, 75] loss: 0.195770\n",
      "[2, 80] loss: 0.202302\n",
      "[2, 85] loss: 0.206070\n",
      "[2, 90] loss: 0.205142\n",
      "[2, 95] loss: 0.198279\n",
      "[2, 100] loss: 0.206956\n",
      "[2, 105] loss: 0.201885\n",
      "[2, 110] loss: 0.208232\n",
      "[2, 115] loss: 0.203186\n",
      "[2, 120] loss: 0.211720\n",
      "[2, 125] loss: 0.204087\n",
      "Epoch: 3\n",
      "[3, 5] loss: 0.198812\n",
      "[3, 10] loss: 0.206678\n",
      "[3, 15] loss: 0.202394\n",
      "[3, 20] loss: 0.196615\n",
      "[3, 25] loss: 0.204021\n",
      "[3, 30] loss: 0.211222\n",
      "[3, 35] loss: 0.206930\n",
      "[3, 40] loss: 0.207997\n",
      "[3, 45] loss: 0.203440\n",
      "[3, 50] loss: 0.189916\n",
      "[3, 55] loss: 0.203800\n",
      "[3, 60] loss: 0.206719\n",
      "[3, 65] loss: 0.205339\n",
      "[3, 70] loss: 0.205373\n",
      "[3, 75] loss: 0.195824\n",
      "[3, 80] loss: 0.202553\n",
      "[3, 85] loss: 0.205955\n",
      "[3, 90] loss: 0.204987\n",
      "[3, 95] loss: 0.198195\n",
      "[3, 100] loss: 0.206878\n",
      "[3, 105] loss: 0.202445\n",
      "[3, 110] loss: 0.206870\n",
      "[3, 115] loss: 0.202742\n"
     ]
    }
   ],
   "source": [
    "train_unet(train_loader, \n",
    "      valid_loader, \n",
    "      resume=True, \n",
    "      n_epochs=n_epochs, \n",
    "      lr=lr, \n",
    "      weight_decay=weight_decay, \n",
    "      loss_type='soft_dice', \n",
    "      add_out_layers=False,)"
   ]
  },
  {
   "cell_type": "code",
   "execution_count": null,
   "metadata": {},
   "outputs": [],
   "source": [
    "check_point = torch.load('../check_point/check_point')"
   ]
  },
  {
   "cell_type": "code",
   "execution_count": null,
   "metadata": {},
   "outputs": [],
   "source": [
    "# model = UNetPlusPlus(in_channels=3, n_classes=2, padding=(117, 118, 108, 108))\n",
    "# for k,v in check_point.items():\n",
    "#     print(k)\n",
    "# model.load_state_dict(check_point['model_state_dict'])"
   ]
  },
  {
   "cell_type": "code",
   "execution_count": null,
   "metadata": {},
   "outputs": [],
   "source": [
    "# validate(model, valid_loader, prune_level=4)\n",
    "# validate(model, valid_loader, prune_level=3)\n",
    "# validate(model, valid_loader, prune_level=2)\n",
    "# validate(model, valid_loader, prune_level=1)"
   ]
  },
  {
   "cell_type": "code",
   "execution_count": null,
   "metadata": {},
   "outputs": [],
   "source": [
    "model = UNet(in_channels=3, padding=(117, 118, 108, 108),  add_out_layers=False)\n",
    "for k,v in check_point.items():\n",
    "    print(k)\n",
    "model.load_state_dict(check_point['model_state_dict'])"
   ]
  },
  {
   "cell_type": "code",
   "execution_count": null,
   "metadata": {},
   "outputs": [],
   "source": [
    "predict(model=model, device='gpu')"
   ]
  },
  {
   "cell_type": "code",
   "execution_count": null,
   "metadata": {},
   "outputs": [],
   "source": [
    "from PIL import Image\n",
    "import matplotlib.pyplot as plt\n",
    "%matplotlib inline"
   ]
  },
  {
   "cell_type": "code",
   "execution_count": null,
   "metadata": {},
   "outputs": [],
   "source": [
    "img = Image.open(os.path.join(module_path, 'data/predict/1.png'))\n",
    "plt.imshow(img)\n",
    "plt.colorbar()\n",
    "plt.show()"
   ]
  },
  {
   "cell_type": "code",
   "execution_count": null,
   "metadata": {},
   "outputs": [],
   "source": [
    "device = ('cuda:0' if torch.cuda.is_available() else 'cpu')"
   ]
  },
  {
   "cell_type": "code",
   "execution_count": null,
   "metadata": {},
   "outputs": [],
   "source": [
    "torch.cuda.get_device_capability(device)"
   ]
  },
  {
   "cell_type": "code",
   "execution_count": null,
   "metadata": {},
   "outputs": [],
   "source": [
    "torch.cuda.max_memory_allocated(device=device)/1024/1024"
   ]
  },
  {
   "cell_type": "code",
   "execution_count": null,
   "metadata": {},
   "outputs": [],
   "source": []
  }
 ],
 "metadata": {
  "kernelspec": {
   "display_name": "Python 3",
   "language": "python",
   "name": "python3"
  },
  "language_info": {
   "codemirror_mode": {
    "name": "ipython",
    "version": 3
   },
   "file_extension": ".py",
   "mimetype": "text/x-python",
   "name": "python",
   "nbconvert_exporter": "python",
   "pygments_lexer": "ipython3",
   "version": "3.6.3"
  },
  "pycharm": {
   "stem_cell": {
    "cell_type": "raw",
    "metadata": {
     "collapsed": false
    },
    "source": []
   }
  }
 },
 "nbformat": 4,
 "nbformat_minor": 2
}
