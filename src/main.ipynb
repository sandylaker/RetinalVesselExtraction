{
 "cells": [
  {
   "cell_type": "code",
   "execution_count": 1,
   "metadata": {},
   "outputs": [],
   "source": [
    "import torch\n",
    "import numpy as np"
   ]
  },
  {
   "cell_type": "code",
   "execution_count": 2,
   "metadata": {},
   "outputs": [],
   "source": [
    "import os\n",
    "import sys\n",
    "module_path = os.path.abspath(os.path.join('..'))\n",
    "if module_path not in sys.path:\n",
    "    sys.path.append(module_path)"
   ]
  },
  {
   "cell_type": "code",
   "execution_count": 3,
   "metadata": {},
   "outputs": [],
   "source": [
    "from src.train import prepare_training_data, train_unet, train_unet_plusplus, validate\n",
    "from src.predict import predict\n",
    "from src.unet import UNet\n",
    "from src.unet_plusplus import UNetPlusPlus"
   ]
  },
  {
   "cell_type": "code",
   "execution_count": 4,
   "metadata": {},
   "outputs": [],
   "source": [
    "n_epochs = 2\n",
    "lr = 1e-3\n",
    "batch_size = 1\n",
    "weight_decay = 1e-6\n",
    "random_state = np.random.RandomState(0)"
   ]
  },
  {
   "cell_type": "code",
   "execution_count": 5,
   "metadata": {},
   "outputs": [],
   "source": [
    "train_loader, valid_loader = prepare_training_data(\n",
    "    train_size=0.90, \n",
    "    batch_size=batch_size, \n",
    "    random_state=random_state)"
   ]
  },
  {
   "cell_type": "code",
   "execution_count": null,
   "metadata": {
    "pycharm": {
     "name": "#%%\n"
    },
    "scrolled": true
   },
   "outputs": [
    {
     "name": "stdout",
     "output_type": "stream",
     "text": [
      "cuda:0\n",
      "Epoch: 1\n",
      "[1, 5] loss: 3.355426\n",
      "[1, 10] loss: 3.156689\n",
      "[1, 15] loss: 3.030963\n",
      "[1, 20] loss: 3.059587\n",
      "[1, 25] loss: 3.036276\n",
      "[1, 30] loss: 2.949724\n",
      "[1, 35] loss: 2.919869\n",
      "[1, 40] loss: 2.749278\n",
      "[1, 45] loss: 2.843435\n",
      "[1, 50] loss: 2.680810\n",
      "[1, 55] loss: 2.733032\n",
      "[1, 60] loss: 2.794630\n",
      "[1, 65] loss: 2.674598\n",
      "[1, 70] loss: 2.641688\n",
      "[1, 75] loss: 2.523663\n",
      "[1, 80] loss: 2.479924\n",
      "[1, 85] loss: 2.360762\n",
      "[1, 90] loss: 2.452713\n",
      "[1, 95] loss: 2.467436\n",
      "[1, 100] loss: 2.401943\n",
      "[1, 105] loss: 2.382562\n",
      "[1, 110] loss: 2.303005\n",
      "[1, 115] loss: 2.233338\n",
      "[1, 120] loss: 2.127865\n",
      "[1, 125] loss: 2.185653\n",
      "[1, 130] loss: 2.117816\n",
      "[1, 135] loss: 2.145213\n",
      "[1, 140] loss: 2.085832\n",
      "[1, 145] loss: 2.041929\n",
      "[1, 150] loss: 2.131689\n",
      "[1, 155] loss: 1.937689\n",
      "[1, 160] loss: 1.980421\n",
      "[1, 165] loss: 1.741925\n",
      "[1, 170] loss: 1.736717\n",
      "[1, 175] loss: 1.695817\n",
      "[1, 180] loss: 1.820001\n",
      "[1, 185] loss: 1.558772\n",
      "[1, 190] loss: 1.593900\n",
      "[1, 195] loss: 1.622188\n",
      "Epoch: 2\n",
      "[2, 5] loss: 1.627363\n",
      "[2, 10] loss: 1.482141\n",
      "[2, 15] loss: 1.335121\n",
      "[2, 20] loss: 1.476096\n",
      "[2, 25] loss: 1.461616\n",
      "[2, 30] loss: 1.558660\n",
      "[2, 35] loss: 1.387747\n",
      "[2, 40] loss: 1.336535\n",
      "[2, 45] loss: 1.331777\n",
      "[2, 50] loss: 1.263016\n",
      "[2, 55] loss: 1.322764\n",
      "[2, 60] loss: 1.497570\n",
      "[2, 65] loss: 1.409208\n",
      "[2, 70] loss: 1.229261\n",
      "[2, 75] loss: 1.230088\n",
      "[2, 80] loss: 1.198733\n",
      "[2, 85] loss: 1.092181\n",
      "[2, 90] loss: 1.133978\n",
      "[2, 95] loss: 1.191710\n",
      "[2, 100] loss: 1.270184\n",
      "[2, 105] loss: 1.207565\n"
     ]
    }
   ],
   "source": [
    "train_unet_plusplus(\n",
    "    train_loader,\n",
    "    valid_loader,\n",
    "    resume=False,\n",
    "    n_epochs=n_epochs,\n",
    "    lr=lr,\n",
    "    weight_decay=weight_decay,\n",
    "    loss_type='soft_dice',\n",
    ")"
   ]
  },
  {
   "cell_type": "code",
   "execution_count": null,
   "metadata": {
    "scrolled": true
   },
   "outputs": [],
   "source": [
    "# train_unet(train_loader, \n",
    "#       valid_loader, \n",
    "#       resume=True, \n",
    "#       n_epochs=n_epochs, \n",
    "#       lr=lr, \n",
    "#       weight_decay=weight_decay, \n",
    "#       loss_type='soft_dice', \n",
    "#       add_out_layers=False,\n",
    "#       weight_map=True)"
   ]
  },
  {
   "cell_type": "code",
   "execution_count": null,
   "metadata": {},
   "outputs": [],
   "source": [
    "check_point = torch.load('../check_point/check_point')"
   ]
  },
  {
   "cell_type": "code",
   "execution_count": null,
   "metadata": {},
   "outputs": [],
   "source": [
    "model = UNetPlusPlus(in_channels=3, n_classes=2, padding=(117, 118, 108, 108))\n",
    "for k,v in check_point.items():\n",
    "    print(k)\n",
    "model.load_state_dict(check_point['model_state_dict'])"
   ]
  },
  {
   "cell_type": "code",
   "execution_count": null,
   "metadata": {},
   "outputs": [],
   "source": [
    "validate(model, valid_loader, prune_level=4)\n",
    "validate(model, valid_loader, prune_level=3)\n",
    "validate(model, valid_loader, prune_level=2)\n",
    "validate(model, valid_loader, prune_level=1)"
   ]
  },
  {
   "cell_type": "code",
   "execution_count": null,
   "metadata": {},
   "outputs": [],
   "source": [
    "# model = UNet(in_channels=3, padding=(117, 118, 108, 108),  add_out_layers=False)\n",
    "# for k,v in check_point.items():\n",
    "#     print(k)\n",
    "# model.load_state_dict(check_point['model_state_dict'])"
   ]
  },
  {
   "cell_type": "code",
   "execution_count": null,
   "metadata": {},
   "outputs": [],
   "source": [
    "predict(model=model, device='gpu')"
   ]
  },
  {
   "cell_type": "code",
   "execution_count": null,
   "metadata": {},
   "outputs": [],
   "source": [
    "from PIL import Image\n",
    "import matplotlib.pyplot as plt\n",
    "%matplotlib inline"
   ]
  },
  {
   "cell_type": "code",
   "execution_count": null,
   "metadata": {},
   "outputs": [],
   "source": [
    "img = Image.open(os.path.join(module_path, 'data/predict/1.png'))\n",
    "plt.imshow(img)\n",
    "plt.colorbar()\n",
    "plt.show()"
   ]
  },
  {
   "cell_type": "code",
   "execution_count": null,
   "metadata": {},
   "outputs": [],
   "source": [
    "device = ('cuda:0' if torch.cuda.is_available() else 'cpu')"
   ]
  },
  {
   "cell_type": "code",
   "execution_count": null,
   "metadata": {},
   "outputs": [],
   "source": [
    "torch.cuda.get_device_capability(device)"
   ]
  },
  {
   "cell_type": "code",
   "execution_count": null,
   "metadata": {},
   "outputs": [],
   "source": [
    "torch.cuda.max_memory_allocated(device=device)/1024/1024"
   ]
  },
  {
   "cell_type": "code",
   "execution_count": null,
   "metadata": {},
   "outputs": [],
   "source": []
  }
 ],
 "metadata": {
  "kernelspec": {
   "display_name": "Python 3",
   "language": "python",
   "name": "python3"
  },
  "language_info": {
   "codemirror_mode": {
    "name": "ipython",
    "version": 3
   },
   "file_extension": ".py",
   "mimetype": "text/x-python",
   "name": "python",
   "nbconvert_exporter": "python",
   "pygments_lexer": "ipython3",
   "version": "3.6.3"
  },
  "pycharm": {
   "stem_cell": {
    "cell_type": "raw",
    "metadata": {
     "collapsed": false
    },
    "source": []
   }
  }
 },
 "nbformat": 4,
 "nbformat_minor": 2
}
