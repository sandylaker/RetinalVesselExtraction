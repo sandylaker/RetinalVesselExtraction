{
 "cells": [
  {
   "cell_type": "code",
   "execution_count": 1,
   "metadata": {},
   "outputs": [],
   "source": [
    "import torch\n",
    "import numpy as np"
   ]
  },
  {
   "cell_type": "code",
   "execution_count": 2,
   "metadata": {},
   "outputs": [],
   "source": [
    "import os\n",
    "import sys\n",
    "module_path = os.path.abspath(os.path.join('..'))\n",
    "if module_path not in sys.path:\n",
    "    sys.path.append(module_path)"
   ]
  },
  {
   "cell_type": "code",
   "execution_count": 3,
   "metadata": {},
   "outputs": [],
   "source": [
    "from src.train import prepare_training_data, train_unet, train_unet_plusplus, validate\n",
    "from src.predict import predict\n",
    "from src.unet import UNet\n",
    "from src.unet_plusplus import UNetPlusPlus"
   ]
  },
  {
   "cell_type": "code",
   "execution_count": 4,
   "metadata": {},
   "outputs": [],
   "source": [
    "n_epochs = 10\n",
    "lr = 1e-3\n",
    "batch_size = 1\n",
    "weight_decay = 1e-5\n",
    "random_state = np.random.RandomState(0)"
   ]
  },
  {
   "cell_type": "code",
   "execution_count": 5,
   "metadata": {},
   "outputs": [],
   "source": [
    "train_loader, valid_loader = prepare_training_data(\n",
    "    train_size=0.90, \n",
    "    batch_size=batch_size, \n",
    "    random_state=random_state)"
   ]
  },
  {
   "cell_type": "code",
   "execution_count": null,
   "outputs": [],
   "source": [
    "train_unet_plusplus(\n",
    "    train_loader,\n",
    "    valid_loader,\n",
    "    resume=False,\n",
    "    n_epochs=n_epochs,\n",
    "    lr=lr,\n",
    "    weight_decay=weight_decay,\n",
    "    loss_type='soft_dice',\n",
    ")"
   ],
   "metadata": {
    "collapsed": false,
    "pycharm": {
     "name": "#%%\n"
    }
   }
  },
  {
   "cell_type": "code",
   "execution_count": null,
   "metadata": {
    "scrolled": true
   },
   "outputs": [],
   "source": [
    "train_unet_plusplus(\n",
    "    train_loader,\n",
    "    valid_loader,\n",
    "    resume=True,\n",
    "    n_epochs=n_epochs,\n",
    "    lr=lr,\n",
    "    weight_decay=weight_decay,\n",
    "    loss_type='soft_dice',\n",
    ")"
   ]
  },
  {
   "cell_type": "code",
   "execution_count": null,
   "metadata": {
    "scrolled": true
   },
   "outputs": [],
   "source": [
    "# train_unet(train_loader, \n",
    "#       valid_loader, \n",
    "#       resume=True, \n",
    "#       n_epochs=n_epochs, \n",
    "#       lr=lr, \n",
    "#       weight_decay=weight_decay, \n",
    "#       loss_type='soft_dice', \n",
    "#       add_out_layers=False,\n",
    "#       weight_map=True)"
   ]
  },
  {
   "cell_type": "code",
   "execution_count": 6,
   "metadata": {},
   "outputs": [],
   "source": [
    "check_point = torch.load('../check_point/check_point')"
   ]
  },
  {
   "cell_type": "code",
   "execution_count": 7,
   "metadata": {},
   "outputs": [
    {
     "name": "stdout",
     "output_type": "stream",
     "text": [
      "epoch\n",
      "model_state_dict\n",
      "optimizer_state_dict\n"
     ]
    },
    {
     "data": {
      "text/plain": [
       "IncompatibleKeys(missing_keys=[], unexpected_keys=[])"
      ]
     },
     "execution_count": 7,
     "metadata": {},
     "output_type": "execute_result"
    }
   ],
   "source": [
    "model = UNetPlusPlus(in_channels=3, n_classes=2, padding=(117, 118, 108, 108))\n",
    "for k,v in check_point.items():\n",
    "    print(k)\n",
    "model.load_state_dict(check_point['model_state_dict'])"
   ]
  },
  {
   "cell_type": "code",
   "execution_count": null,
   "metadata": {},
   "outputs": [
    {
     "name": "stdout",
     "output_type": "stream",
     "text": [
      "cuda:0\n",
      "Mean Dice Score: 0.684302\n",
      "cuda:0\n",
      "Mean Dice Score: 0.685595\n",
      "cuda:0\n",
      "Mean Dice Score: 0.683744\n",
      "cuda:0\n"
     ]
    }
   ],
   "source": [
    "validate(model, valid_loader, prune_level=4)\n",
    "validate(model, valid_loader, prune_level=3)\n",
    "validate(model, valid_loader, prune_level=2)\n",
    "validate(model, valid_loader, prune_level=1)"
   ]
  },
  {
   "cell_type": "code",
   "execution_count": null,
   "outputs": [],
   "source": [
    "model = UNetPlusPlus(in_channels=3, n_classes=2, padding=(117, 118, 108, 108))\n",
    "for k,v in check_point.items():\n",
    "    print(k)\n",
    "model.load_state_dict(check_point['model_state_dict'])"
   ],
   "metadata": {
    "collapsed": false,
    "pycharm": {
     "name": "#%%\n"
    }
   }
  },
  {
   "cell_type": "code",
   "execution_count": null,
   "outputs": [],
   "source": [
    "validate(model, valid_loader, prune_level=4)\n",
    "validate(model, valid_loader, prune_level=3)\n",
    "validate(model, valid_loader, prune_level=2)\n",
    "validate(model, valid_loader, prune_level=1)"
   ],
   "metadata": {
    "collapsed": false,
    "pycharm": {
     "name": "#%%\n"
    }
   }
  },
  {
   "cell_type": "code",
   "execution_count": null,
   "metadata": {},
   "outputs": [],
   "source": [
    "# model = UNet(in_channels=3, padding=(117, 118, 108, 108),  add_out_layers=False)\n",
    "# for k,v in check_point.items():\n",
    "#     print(k)\n",
    "# model.load_state_dict(check_point['model_state_dict'])"
   ]
  },
  {
   "cell_type": "code",
   "execution_count": 8,
   "metadata": {},
   "outputs": [
    {
     "name": "stdout",
     "output_type": "stream",
     "text": [
      "cuda:0\n",
      "(117, 118, 108, 108)\n",
      "Model: UNet++\n",
      "Predicted image 1 saved\n",
      "Model: UNet++\n",
      "Predicted image 2 saved\n",
      "Model: UNet++\n",
      "Predicted image 3 saved\n",
      "Model: UNet++\n",
      "Predicted image 4 saved\n",
      "Model: UNet++\n",
      "Predicted image 5 saved\n",
      "Model: UNet++\n",
      "Predicted image 6 saved\n",
      "Model: UNet++\n",
      "Predicted image 7 saved\n",
      "Model: UNet++\n",
      "Predicted image 8 saved\n",
      "Model: UNet++\n",
      "Predicted image 9 saved\n",
      "Model: UNet++\n",
      "Predicted image 10 saved\n",
      "Model: UNet++\n",
      "Predicted image 11 saved\n",
      "Model: UNet++\n",
      "Predicted image 12 saved\n",
      "Model: UNet++\n",
      "Predicted image 13 saved\n",
      "Model: UNet++\n",
      "Predicted image 14 saved\n",
      "Model: UNet++\n",
      "Predicted image 15 saved\n",
      "Model: UNet++\n",
      "Predicted image 16 saved\n",
      "Model: UNet++\n",
      "Predicted image 17 saved\n",
      "Model: UNet++\n",
      "Predicted image 18 saved\n",
      "Model: UNet++\n",
      "Predicted image 19 saved\n",
      "Model: UNet++\n",
      "Predicted image 20 saved\n"
     ]
    }
   ],
   "source": [
    "predict(model=model, device='gpu')"
   ]
  },
  {
   "cell_type": "code",
   "execution_count": 9,
   "metadata": {},
   "outputs": [],
   "source": [
    "from PIL import Image\n",
    "import matplotlib.pyplot as plt\n",
    "%matplotlib inline"
   ]
  },
  {
   "cell_type": "code",
   "execution_count": 10,
   "metadata": {},
   "outputs": [
    {
     "data": {
      "image/png": "[encoded data removed]",
      "text/plain": [
       "<Figure size 432x288 with 2 Axes>"
      ]
     },
     "metadata": {},
     "output_type": "display_data"
    }
   ],
   "source": [
    "img = Image.open(os.path.join(module_path, 'data/predict/1.png'))\n",
    "plt.imshow(img)\n",
    "plt.colorbar()\n",
    "plt.show()"
   ]
  },
  {
   "cell_type": "code",
   "execution_count": null,
   "metadata": {},
   "outputs": [],
   "source": [
    "device = ('cuda:0' if torch.cuda.is_available() else 'cpu')"
   ]
  },
  {
   "cell_type": "code",
   "execution_count": null,
   "metadata": {},
   "outputs": [],
   "source": [
    "torch.cuda.get_device_capability(device)"
   ]
  },
  {
   "cell_type": "code",
   "execution_count": null,
   "metadata": {},
   "outputs": [],
   "source": [
    "torch.cuda.max_memory_allocated(device=device)/1024/1024"
   ]
  },
  {
   "cell_type": "code",
   "execution_count": null,
   "metadata": {},
   "outputs": [],
   "source": []
  }
 ],
 "metadata": {
  "kernelspec": {
   "display_name": "Python 3",
   "language": "python",
   "name": "python3"
  },
  "language_info": {
   "codemirror_mode": {
    "name": "ipython",
    "version": 3
   },
   "file_extension": ".py",
   "mimetype": "text/x-python",
   "name": "python",
   "nbconvert_exporter": "python",
   "pygments_lexer": "ipython3",
   "version": "3.6.3"
  },
  "pycharm": {
   "stem_cell": {
    "cell_type": "raw",
    "metadata": {
     "collapsed": false
    },
    "source": []
   }
  }
 },
 "nbformat": 4,
 "nbformat_minor": 2
}
