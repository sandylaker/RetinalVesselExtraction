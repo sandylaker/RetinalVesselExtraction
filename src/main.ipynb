{
 "cells": [
  {
   "cell_type": "code",
   "execution_count": 1,
   "metadata": {},
   "outputs": [],
   "source": [
    "import torch\n",
    "import numpy as np"
   ]
  },
  {
   "cell_type": "code",
   "execution_count": 2,
   "metadata": {},
   "outputs": [],
   "source": [
    "import os\n",
    "import sys\n",
    "module_path = os.path.abspath(os.path.join('..'))\n",
    "if module_path not in sys.path:\n",
    "    sys.path.append(module_path)"
   ]
  },
  {
   "cell_type": "code",
   "execution_count": 3,
   "metadata": {},
   "outputs": [],
   "source": [
    "from src.train import prepare_training_data, train\n",
    "from src.predict import predict\n",
    "from src import UNet"
   ]
  },
  {
   "cell_type": "code",
   "execution_count": 4,
   "metadata": {},
   "outputs": [],
   "source": [
    "n_epochs = 20\n",
    "lr = 1e-3\n",
    "batch_size = 2\n",
    "weight_decay = 1e-5\n",
    "random_state = np.random.RandomState(0)"
   ]
  },
  {
   "cell_type": "code",
   "execution_count": 5,
   "metadata": {},
   "outputs": [],
   "source": [
    "train_loader, valid_loader = prepare_training_data(\n",
    "    train_size=0.90, \n",
    "    batch_size=batch_size, \n",
    "    random_state=random_state)"
   ]
  },
  {
   "cell_type": "code",
   "execution_count": null,
   "metadata": {
    "scrolled": true
   },
   "outputs": [
    {
     "name": "stdout",
     "output_type": "stream",
     "text": [
      "cuda:0\n",
      "Epoch: 1\n",
      "[1, 5] loss: 0.624637\n",
      "[1, 10] loss: 0.554981\n",
      "[1, 15] loss: 0.543078\n",
      "[1, 20] loss: 0.413617\n",
      "[1, 25] loss: 0.340337\n",
      "[1, 30] loss: 0.310832\n",
      "[1, 35] loss: 0.274283\n",
      "[1, 40] loss: 0.252892\n",
      "[1, 45] loss: 0.224185\n",
      "[1, 50] loss: 0.179113\n",
      "[1, 55] loss: 0.159754\n",
      "[1, 60] loss: 0.093604\n",
      "[1, 65] loss: 0.109735\n",
      "[1, 70] loss: 0.097507\n",
      "[1, 75] loss: 0.106114\n",
      "[1, 80] loss: 0.060147\n",
      "[1, 85] loss: 0.040918\n",
      "[1, 90] loss: 0.016346\n",
      "[1, 95] loss: -0.025579\n",
      "Epoch: 2\n",
      "[2, 5] loss: -0.026474\n",
      "[2, 10] loss: -0.027566\n",
      "[2, 15] loss: -0.030403\n",
      "[2, 20] loss: -0.045029\n",
      "[2, 25] loss: -0.061408\n",
      "[2, 30] loss: -0.078363\n",
      "[2, 35] loss: -0.089796\n",
      "[2, 40] loss: -0.105439\n",
      "[2, 45] loss: -0.081610\n",
      "[2, 50] loss: -0.093143\n",
      "[2, 55] loss: -0.071632\n",
      "[2, 60] loss: -0.118466\n",
      "[2, 65] loss: -0.133613\n",
      "[2, 70] loss: -0.124243\n",
      "[2, 75] loss: -0.091921\n",
      "[2, 80] loss: -0.102294\n",
      "[2, 85] loss: -0.108001\n",
      "[2, 90] loss: -0.124520\n",
      "[2, 95] loss: -0.152899\n",
      "Epoch: 3\n",
      "[3, 5] loss: -0.146424\n",
      "[3, 10] loss: -0.134824\n",
      "[3, 15] loss: -0.140444\n",
      "[3, 20] loss: -0.134347\n",
      "[3, 25] loss: -0.163021\n",
      "[3, 30] loss: -0.159973\n",
      "[3, 35] loss: -0.173504\n",
      "[3, 40] loss: -0.168517\n",
      "[3, 45] loss: -0.110693\n",
      "[3, 50] loss: -0.118488\n",
      "[3, 55] loss: -0.109211\n",
      "[3, 60] loss: -0.155835\n",
      "[3, 65] loss: -0.143771\n",
      "[3, 70] loss: -0.143854\n",
      "[3, 75] loss: -0.129576\n",
      "[3, 80] loss: -0.141552\n",
      "[3, 85] loss: -0.137552\n",
      "[3, 90] loss: -0.140895\n",
      "[3, 95] loss: -0.177459\n",
      "Epoch: 4\n",
      "[4, 5] loss: -0.159590\n",
      "[4, 10] loss: -0.155957\n",
      "[4, 15] loss: -0.149531\n",
      "[4, 20] loss: -0.156415\n",
      "[4, 25] loss: -0.177840\n"
     ]
    }
   ],
   "source": [
    "train(train_loader, \n",
    "      valid_loader, \n",
    "      resume=False, \n",
    "      n_epochs=n_epochs, \n",
    "      lr=lr, \n",
    "      weight_decay=weight_decay, \n",
    "      loss_type='soft_dice', add_out_layers=False)"
   ]
  },
  {
   "cell_type": "code",
   "execution_count": null,
   "metadata": {},
   "outputs": [],
   "source": [
    "check_point = torch.load('../check_point/check_point')"
   ]
  },
  {
   "cell_type": "code",
   "execution_count": null,
   "metadata": {},
   "outputs": [],
   "source": [
    "model = UNet(in_channels=3, padding=(117, 118, 108, 108),  add_out_layers=False)\n",
    "for k,v in check_point.items():\n",
    "    print(k)\n",
    "model.load_state_dict(check_point['model_state_dict'])"
   ]
  },
  {
   "cell_type": "code",
   "execution_count": null,
   "metadata": {},
   "outputs": [],
   "source": [
    "predict(model=model, valid_loader)"
   ]
  },
  {
   "cell_type": "code",
   "execution_count": null,
   "metadata": {},
   "outputs": [],
   "source": [
    "from PIL import Image\n",
    "import matplotlib.pyplot as plt\n",
    "%matplotlib inline"
   ]
  },
  {
   "cell_type": "code",
   "execution_count": null,
   "metadata": {},
   "outputs": [],
   "source": [
    "img = Image.open(os.path.join(module_path, 'data/predict/1.png'))\n",
    "plt.imshow(img)\n",
    "plt.colorbar()\n",
    "plt.show()"
   ]
  },
  {
   "cell_type": "code",
   "execution_count": null,
   "metadata": {},
   "outputs": [],
   "source": []
  }
 ],
 "metadata": {
  "kernelspec": {
   "display_name": "Python 3",
   "language": "python",
   "name": "python3"
  },
  "language_info": {
   "codemirror_mode": {
    "name": "ipython",
    "version": 3
   },
   "file_extension": ".py",
   "mimetype": "text/x-python",
   "name": "python",
   "nbconvert_exporter": "python",
   "pygments_lexer": "ipython3",
   "version": "3.6.3"
  },
  "pycharm": {
   "stem_cell": {
    "cell_type": "raw",
    "metadata": {
     "collapsed": false
    },
    "source": []
   }
  }
 },
 "nbformat": 4,
 "nbformat_minor": 2
}
