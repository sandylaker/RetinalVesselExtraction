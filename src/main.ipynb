{
 "cells": [
  {
   "cell_type": "code",
   "execution_count": 1,
   "metadata": {},
   "outputs": [],
   "source": [
    "import torch\n",
    "import numpy as np"
   ]
  },
  {
   "cell_type": "code",
   "execution_count": 2,
   "metadata": {},
   "outputs": [],
   "source": [
    "import os\n",
    "import sys\n",
    "module_path = os.path.abspath(os.path.join('..'))\n",
    "if module_path not in sys.path:\n",
    "    sys.path.append(module_path)"
   ]
  },
  {
   "cell_type": "code",
   "execution_count": 3,
   "metadata": {},
   "outputs": [],
   "source": [
    "from src.train import prepare_training_data, train_unet, train_unet_plusplus, validate\n",
    "from src.predict import predict\n",
    "from src.unet import UNet\n",
    "from src.unet_plusplus import UNetPlusPlus"
   ]
  },
  {
   "cell_type": "code",
   "execution_count": 40,
   "metadata": {},
   "outputs": [],
   "source": [
    "n_epochs = 3\n",
    "lr = 5e-4\n",
    "batch_size = 3\n",
    "weight_decay = 1e-6\n",
    "random_state = np.random.RandomState(0)"
   ]
  },
  {
   "cell_type": "code",
   "execution_count": 5,
   "metadata": {},
   "outputs": [],
   "source": [
    "train_loader, valid_loader = prepare_training_data(\n",
    "    train_size=0.90, \n",
    "    batch_size=batch_size, \n",
    "    random_state=random_state)"
   ]
  },
  {
   "cell_type": "code",
   "execution_count": null,
   "metadata": {
    "pycharm": {
     "name": "#%%\n"
    },
    "scrolled": true
   },
   "outputs": [],
   "source": [
    "# train_unet_plusplus(\n",
    "#     train_loader,\n",
    "#     valid_loader,\n",
    "#     resume=False,\n",
    "#     n_epochs=n_epochs,\n",
    "#     lr=lr,\n",
    "#     weight_decay=weight_decay,\n",
    "#     loss_type='soft_dice',\n",
    "# )"
   ]
  },
  {
   "cell_type": "code",
   "execution_count": null,
   "metadata": {
    "scrolled": true
   },
   "outputs": [
    {
     "name": "stdout",
     "output_type": "stream",
     "text": [
      "cuda:0\n",
      "Epoch: 1\n",
      "[1, 5] loss: 0.189992\n",
      "[1, 10] loss: 0.198241\n",
      "[1, 15] loss: 0.196114\n",
      "[1, 20] loss: 0.194760\n",
      "[1, 25] loss: 0.201683\n",
      "[1, 30] loss: 0.208113\n",
      "[1, 35] loss: 0.210426\n",
      "[1, 40] loss: 0.204303\n",
      "[1, 45] loss: 0.202495\n",
      "[1, 50] loss: 0.186942\n",
      "[1, 55] loss: 0.201615\n",
      "[1, 60] loss: 0.203544\n",
      "[1, 65] loss: 0.201348\n",
      "[1, 70] loss: 0.202244\n",
      "[1, 75] loss: 0.191402\n",
      "[1, 80] loss: 0.196206\n",
      "[1, 85] loss: 0.200619\n",
      "[1, 90] loss: 0.199675\n",
      "[1, 95] loss: 0.190174\n",
      "[1, 100] loss: 0.200614\n",
      "[1, 105] loss: 0.195602\n",
      "[1, 110] loss: 0.199552\n",
      "[1, 115] loss: 0.194373\n",
      "[1, 120] loss: 0.200678\n",
      "[1, 125] loss: 0.196031\n",
      "Epoch: 2\n",
      "[2, 5] loss: 0.189262\n",
      "[2, 10] loss: 0.197399\n",
      "[2, 15] loss: 0.193237\n",
      "[2, 20] loss: 0.190280\n",
      "[2, 25] loss: 0.193636\n",
      "[2, 30] loss: 0.200591\n",
      "[2, 35] loss: 0.199368\n",
      "[2, 40] loss: 0.202117\n",
      "[2, 45] loss: 0.199151\n",
      "[2, 50] loss: 0.184227\n",
      "[2, 55] loss: 0.194803\n",
      "[2, 60] loss: 0.195356\n",
      "[2, 65] loss: 0.195605\n",
      "[2, 70] loss: 0.196162\n",
      "[2, 75] loss: 0.187446\n",
      "[2, 80] loss: 0.193108\n",
      "[2, 85] loss: 0.196093\n",
      "[2, 90] loss: 0.196639\n",
      "[2, 95] loss: 0.186518\n",
      "[2, 100] loss: 0.199116\n",
      "[2, 105] loss: 0.194851\n",
      "[2, 110] loss: 0.197976\n",
      "[2, 115] loss: 0.192668\n",
      "[2, 120] loss: 0.200019\n",
      "[2, 125] loss: 0.195016\n",
      "Epoch: 3\n",
      "[3, 5] loss: 0.187897\n",
      "[3, 10] loss: 0.196223\n",
      "[3, 15] loss: 0.192287\n",
      "[3, 20] loss: 0.188228\n",
      "[3, 25] loss: 0.192706\n",
      "[3, 30] loss: 0.199273\n",
      "[3, 35] loss: 0.198162\n",
      "[3, 40] loss: 0.196337\n",
      "[3, 45] loss: 0.195344\n",
      "[3, 50] loss: 0.184073\n",
      "[3, 55] loss: 0.195204\n",
      "[3, 60] loss: 0.195307\n",
      "[3, 65] loss: 0.197270\n",
      "[3, 70] loss: 0.195510\n",
      "[3, 75] loss: 0.187197\n",
      "[3, 80] loss: 0.191860\n",
      "[3, 85] loss: 0.194680\n",
      "[3, 90] loss: 0.195604\n",
      "[3, 95] loss: 0.185390\n",
      "[3, 100] loss: 0.198266\n",
      "[3, 105] loss: 0.193501\n",
      "[3, 110] loss: 0.196262\n",
      "[3, 115] loss: 0.191924\n",
      "[3, 120] loss: 0.197204\n",
      "[3, 125] loss: 0.192642\n",
      "finish training\n",
      "cuda:0\n"
     ]
    }
   ],
   "source": [
    "train_unet(train_loader, \n",
    "      valid_loader, \n",
    "      resume=True, \n",
    "      n_epochs=n_epochs, \n",
    "      lr=lr, \n",
    "      weight_decay=weight_decay, \n",
    "      loss_type='soft_dice', \n",
    "      add_out_layers=False,)"
   ]
  },
  {
   "cell_type": "code",
   "execution_count": 37,
   "metadata": {},
   "outputs": [],
   "source": [
    "check_point = torch.load('../check_point/check_point')"
   ]
  },
  {
   "cell_type": "code",
   "execution_count": null,
   "metadata": {},
   "outputs": [],
   "source": [
    "# model = UNetPlusPlus(in_channels=3, n_classes=2, padding=(117, 118, 108, 108))\n",
    "# for k,v in check_point.items():\n",
    "#     print(k)\n",
    "# model.load_state_dict(check_point['model_state_dict'])"
   ]
  },
  {
   "cell_type": "code",
   "execution_count": null,
   "metadata": {},
   "outputs": [],
   "source": [
    "# validate(model, valid_loader, prune_level=4)\n",
    "# validate(model, valid_loader, prune_level=3)\n",
    "# validate(model, valid_loader, prune_level=2)\n",
    "# validate(model, valid_loader, prune_level=1)"
   ]
  },
  {
   "cell_type": "code",
   "execution_count": 38,
   "metadata": {},
   "outputs": [
    {
     "name": "stdout",
     "output_type": "stream",
     "text": [
      "epoch\n",
      "model_state_dict\n",
      "optimizer_state_dict\n"
     ]
    },
    {
     "data": {
      "text/plain": [
       "IncompatibleKeys(missing_keys=[], unexpected_keys=[])"
      ]
     },
     "execution_count": 38,
     "metadata": {},
     "output_type": "execute_result"
    }
   ],
   "source": [
    "model = UNet(in_channels=3, padding=(117, 118, 108, 108),  add_out_layers=False)\n",
    "for k,v in check_point.items():\n",
    "    print(k)\n",
    "model.load_state_dict(check_point['model_state_dict'])"
   ]
  },
  {
   "cell_type": "code",
   "execution_count": 39,
   "metadata": {
    "scrolled": true
   },
   "outputs": [
    {
     "name": "stdout",
     "output_type": "stream",
     "text": [
      "cuda:0\n",
      "(117, 118, 108, 108)\n",
      "Model: UNet\n",
      "Predicted image 1 saved\n",
      "Model: UNet\n",
      "Predicted image 2 saved\n",
      "Model: UNet\n",
      "Predicted image 3 saved\n",
      "Model: UNet\n",
      "Predicted image 4 saved\n",
      "Model: UNet\n",
      "Predicted image 5 saved\n",
      "Model: UNet\n",
      "Predicted image 6 saved\n",
      "Model: UNet\n",
      "Predicted image 7 saved\n",
      "Model: UNet\n",
      "Predicted image 8 saved\n",
      "Model: UNet\n",
      "Predicted image 9 saved\n",
      "Model: UNet\n",
      "Predicted image 10 saved\n",
      "Model: UNet\n",
      "Predicted image 11 saved\n",
      "Model: UNet\n",
      "Predicted image 12 saved\n",
      "Model: UNet\n",
      "Predicted image 13 saved\n",
      "Model: UNet\n",
      "Predicted image 14 saved\n",
      "Model: UNet\n",
      "Predicted image 15 saved\n",
      "Model: UNet\n",
      "Predicted image 16 saved\n",
      "Model: UNet\n",
      "Predicted image 17 saved\n",
      "Model: UNet\n",
      "Predicted image 18 saved\n",
      "Model: UNet\n",
      "Predicted image 19 saved\n",
      "Model: UNet\n",
      "Predicted image 20 saved\n"
     ]
    }
   ],
   "source": [
    "predict(model=model, device='gpu')"
   ]
  },
  {
   "cell_type": "code",
   "execution_count": 18,
   "metadata": {},
   "outputs": [],
   "source": [
    "from PIL import Image\n",
    "import matplotlib.pyplot as plt\n",
    "%matplotlib inline"
   ]
  },
  {
   "cell_type": "code",
   "execution_count": 21,
   "metadata": {},
   "outputs": [
    {
     "data": {
      "image/png": "[encoded data removed]",
      "text/plain": [
       "<Figure size 432x288 with 2 Axes>"
      ]
     },
     "metadata": {},
     "output_type": "display_data"
    }
   ],
   "source": [
    "img = Image.open(os.path.join(module_path, 'data/predict/2.png'))\n",
    "plt.imshow(img)\n",
    "plt.colorbar()\n",
    "plt.show()"
   ]
  },
  {
   "cell_type": "code",
   "execution_count": 20,
   "metadata": {},
   "outputs": [],
   "source": [
    "device = ('cuda:0' if torch.cuda.is_available() else 'cpu')"
   ]
  },
  {
   "cell_type": "code",
   "execution_count": null,
   "metadata": {},
   "outputs": [],
   "source": [
    "torch.cuda.get_device_capability(device)"
   ]
  },
  {
   "cell_type": "code",
   "execution_count": null,
   "metadata": {},
   "outputs": [],
   "source": [
    "torch.cuda.max_memory_allocated(device=device)/1024/1024"
   ]
  },
  {
   "cell_type": "code",
   "execution_count": null,
   "metadata": {},
   "outputs": [],
   "source": []
  }
 ],
 "metadata": {
  "kernelspec": {
   "display_name": "Python 3",
   "language": "python",
   "name": "python3"
  },
  "language_info": {
   "codemirror_mode": {
    "name": "ipython",
    "version": 3
   },
   "file_extension": ".py",
   "mimetype": "text/x-python",
   "name": "python",
   "nbconvert_exporter": "python",
   "pygments_lexer": "ipython3",
   "version": "3.6.3"
  },
  "pycharm": {
   "stem_cell": {
    "cell_type": "raw",
    "metadata": {
     "collapsed": false
    },
    "source": []
   }
  }
 },
 "nbformat": 4,
 "nbformat_minor": 2
}
