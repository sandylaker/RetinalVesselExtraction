{
 "cells": [
  {
   "cell_type": "code",
   "execution_count": 1,
   "metadata": {},
   "outputs": [],
   "source": [
    "import torch\n",
    "import numpy as np"
   ]
  },
  {
   "cell_type": "code",
   "execution_count": 2,
   "metadata": {},
   "outputs": [],
   "source": [
    "import os\n",
    "import sys\n",
    "module_path = os.path.abspath(os.path.join('..'))\n",
    "if module_path not in sys.path:\n",
    "    sys.path.append(module_path)"
   ]
  },
  {
   "cell_type": "code",
   "execution_count": 3,
   "metadata": {},
   "outputs": [],
   "source": [
    "from src.train import prepare_training_data, train_unet, train_unet_plusplus\n",
    "from src.predict import predict\n",
    "from src import UNet"
   ]
  },
  {
   "cell_type": "code",
   "execution_count": 7,
   "metadata": {},
   "outputs": [],
   "source": [
    "n_epochs = 10\n",
    "lr = 5e-4\n",
    "batch_size = 3\n",
    "weight_decay = 1e-5\n",
    "random_state = np.random.RandomState(0)"
   ]
  },
  {
   "cell_type": "code",
   "execution_count": 5,
   "metadata": {},
   "outputs": [],
   "source": [
    "train_loader, valid_loader = prepare_training_data(\n",
    "    train_size=0.90, \n",
    "    batch_size=batch_size, \n",
    "    random_state=random_state)"
   ]
  },
  {
   "cell_type": "code",
   "execution_count": null,
   "metadata": {
    "scrolled": true
   },
   "outputs": [
    {
     "name": "stdout",
     "output_type": "stream",
     "text": [
      "cuda:0\n",
      "Epoch: 1\n",
      "[1, 5] loss: 0.199419\n",
      "[1, 10] loss: 0.213920\n",
      "[1, 15] loss: 0.201100\n",
      "[1, 20] loss: 0.228136\n",
      "[1, 25] loss: 0.202573\n",
      "[1, 30] loss: 0.203531\n",
      "[1, 35] loss: 0.188835\n",
      "[1, 40] loss: 0.212644\n",
      "[1, 45] loss: 0.207839\n",
      "[1, 50] loss: 0.200661\n",
      "[1, 55] loss: 0.189689\n",
      "[1, 60] loss: 0.208527\n",
      "[1, 65] loss: 0.233026\n",
      "Epoch: 2\n",
      "[2, 5] loss: 0.198087\n",
      "[2, 10] loss: 0.205400\n",
      "[2, 15] loss: 0.198313\n",
      "[2, 20] loss: 0.218845\n",
      "[2, 25] loss: 0.196122\n",
      "[2, 30] loss: 0.199401\n",
      "[2, 35] loss: 0.196585\n",
      "[2, 40] loss: 0.251218\n",
      "[2, 45] loss: 0.231239\n",
      "[2, 50] loss: 0.221483\n",
      "[2, 55] loss: 0.210775\n",
      "[2, 60] loss: 0.229276\n",
      "[2, 65] loss: 0.247277\n",
      "Epoch: 3\n",
      "[3, 5] loss: 0.209381\n",
      "[3, 10] loss: 0.221468\n",
      "[3, 15] loss: 0.234668\n",
      "[3, 20] loss: 0.258614\n",
      "[3, 25] loss: 0.228638\n",
      "[3, 30] loss: 0.219625\n",
      "[3, 35] loss: 0.201100\n",
      "[3, 40] loss: 0.226248\n",
      "[3, 45] loss: 0.221519\n",
      "[3, 50] loss: 0.213524\n",
      "[3, 55] loss: 0.201462\n",
      "[3, 60] loss: 0.217195\n",
      "[3, 65] loss: 0.238901\n",
      "Epoch: 4\n",
      "[4, 5] loss: 0.202603\n",
      "[4, 10] loss: 0.221349\n",
      "[4, 15] loss: 0.221683\n",
      "[4, 20] loss: 0.238263\n",
      "[4, 25] loss: 0.220095\n",
      "[4, 30] loss: 0.212179\n",
      "[4, 35] loss: 0.193800\n",
      "[4, 40] loss: 0.218125\n",
      "[4, 45] loss: 0.215131\n",
      "[4, 50] loss: 0.214495\n",
      "[4, 55] loss: 0.197240\n",
      "[4, 60] loss: 0.214280\n",
      "[4, 65] loss: 0.232984\n",
      "Epoch: 5\n",
      "[5, 5] loss: 0.200956\n",
      "[5, 10] loss: 0.218306\n",
      "[5, 15] loss: 0.205865\n",
      "[5, 20] loss: 0.229229\n",
      "[5, 25] loss: 0.202825\n",
      "[5, 30] loss: 0.210991\n",
      "[5, 35] loss: 0.190515\n",
      "[5, 40] loss: 0.214982\n",
      "[5, 45] loss: 0.214922\n",
      "[5, 50] loss: 0.200417\n",
      "[5, 55] loss: 0.192808\n",
      "[5, 60] loss: 0.207097\n",
      "[5, 65] loss: 0.224130\n",
      "Epoch: 6\n",
      "[6, 5] loss: 0.194553\n",
      "[6, 10] loss: 0.206226\n",
      "[6, 15] loss: 0.194413\n",
      "[6, 20] loss: 0.218620\n",
      "[6, 25] loss: 0.194844\n",
      "[6, 30] loss: 0.198852\n",
      "[6, 35] loss: 0.184040\n",
      "[6, 40] loss: 0.208002\n",
      "[6, 45] loss: 0.205912\n",
      "[6, 50] loss: 0.195524\n",
      "[6, 55] loss: 0.190262\n",
      "[6, 60] loss: 0.202250\n",
      "[6, 65] loss: 0.218237\n",
      "Epoch: 7\n",
      "[7, 5] loss: 0.190809\n",
      "[7, 10] loss: 0.203830\n",
      "[7, 15] loss: 0.192216\n",
      "[7, 20] loss: 0.216623\n",
      "[7, 25] loss: 0.192514\n",
      "[7, 30] loss: 0.196595\n",
      "[7, 35] loss: 0.182427\n",
      "[7, 40] loss: 0.207155\n",
      "[7, 45] loss: 0.203591\n",
      "[7, 50] loss: 0.193735\n",
      "[7, 55] loss: 0.185817\n",
      "[7, 60] loss: 0.200112\n",
      "[7, 65] loss: 0.218694\n",
      "Epoch: 8\n",
      "[8, 5] loss: 0.189427\n",
      "[8, 10] loss: 0.199690\n",
      "[8, 15] loss: 0.188525\n",
      "[8, 20] loss: 0.211519\n",
      "[8, 25] loss: 0.189861\n",
      "[8, 30] loss: 0.191988\n",
      "[8, 35] loss: 0.179307\n",
      "[8, 40] loss: 0.201578\n",
      "[8, 45] loss: 0.199481\n",
      "[8, 50] loss: 0.191321\n",
      "[8, 55] loss: 0.183940\n",
      "[8, 60] loss: 0.196603\n",
      "[8, 65] loss: 0.214599\n",
      "Epoch: 9\n",
      "[9, 5] loss: 0.188689\n",
      "[9, 10] loss: 0.198240\n",
      "[9, 15] loss: 0.191809\n",
      "[9, 20] loss: 0.210142\n",
      "[9, 25] loss: 0.188058\n",
      "[9, 30] loss: 0.191687\n",
      "[9, 35] loss: 0.178843\n",
      "[9, 40] loss: 0.201635\n",
      "[9, 45] loss: 0.197056\n",
      "[9, 50] loss: 0.189040\n",
      "[9, 55] loss: 0.183892\n",
      "[9, 60] loss: 0.202492\n",
      "[9, 65] loss: 0.222055\n",
      "Epoch: 10\n",
      "[10, 5] loss: 0.191146\n",
      "[10, 10] loss: 0.196666\n",
      "[10, 15] loss: 0.189737\n",
      "[10, 20] loss: 0.210186\n",
      "[10, 25] loss: 0.190190\n",
      "[10, 30] loss: 0.192839\n",
      "[10, 35] loss: 0.177739\n",
      "[10, 40] loss: 0.199342\n",
      "[10, 45] loss: 0.199698\n"
     ]
    }
   ],
   "source": [
    "train_unet(train_loader, \n",
    "      valid_loader, \n",
    "      resume=True, \n",
    "      n_epochs=n_epochs, \n",
    "      lr=lr, \n",
    "      weight_decay=weight_decay, \n",
    "      loss_type='soft_dice', \n",
    "      add_out_layers=False,\n",
    "      weight_map=True)"
   ]
  },
  {
   "cell_type": "code",
   "execution_count": null,
   "metadata": {},
   "outputs": [],
   "source": [
    "check_point = torch.load('../check_point/check_point')"
   ]
  },
  {
   "cell_type": "code",
   "execution_count": null,
   "metadata": {},
   "outputs": [],
   "source": [
    "model = UNet(in_channels=3, padding=(117, 118, 108, 108),  add_out_layers=False)\n",
    "for k,v in check_point.items():\n",
    "    print(k)\n",
    "model.load_state_dict(check_point['model_state_dict'])"
   ]
  },
  {
   "cell_type": "code",
   "execution_count": null,
   "metadata": {},
   "outputs": [],
   "source": [
    "predict(model=model)"
   ]
  },
  {
   "cell_type": "code",
   "execution_count": null,
   "metadata": {},
   "outputs": [],
   "source": [
    "from PIL import Image\n",
    "import matplotlib.pyplot as plt\n",
    "%matplotlib inline"
   ]
  },
  {
   "cell_type": "code",
   "execution_count": null,
   "metadata": {},
   "outputs": [],
   "source": [
    "img = Image.open(os.path.join(module_path, 'data/predict/1.png'))\n",
    "plt.imshow(img)\n",
    "plt.colorbar()\n",
    "plt.show()"
   ]
  },
  {
   "cell_type": "code",
   "execution_count": null,
   "metadata": {},
   "outputs": [],
   "source": []
  }
 ],
 "metadata": {
  "kernelspec": {
   "display_name": "Python 3",
   "language": "python",
   "name": "python3"
  },
  "language_info": {
   "codemirror_mode": {
    "name": "ipython",
    "version": 3
   },
   "file_extension": ".py",
   "mimetype": "text/x-python",
   "name": "python",
   "nbconvert_exporter": "python",
   "pygments_lexer": "ipython3",
   "version": "3.6.3"
  },
  "pycharm": {
   "stem_cell": {
    "cell_type": "raw",
    "source": [],
    "metadata": {
     "collapsed": false
    }
   }
  }
 },
 "nbformat": 4,
 "nbformat_minor": 2
}